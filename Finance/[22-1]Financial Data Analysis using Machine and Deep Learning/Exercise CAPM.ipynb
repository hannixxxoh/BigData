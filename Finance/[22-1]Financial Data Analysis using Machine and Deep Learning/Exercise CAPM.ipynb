{
 "cells": [
  {
   "cell_type": "markdown",
   "metadata": {
    "toc": true
   },
   "source": [
    "<h1>Table of Contents<span class=\"tocSkip\"></span></h1>\n",
    "<div class=\"toc\"><ul class=\"toc-item\"><li><ul class=\"toc-item\"><li><span><a href=\"#CAPM\" data-toc-modified-id=\"CAPM-0.1\"><span class=\"toc-item-num\">0.1&nbsp;&nbsp;</span>CAPM</a></span></li><li><span><a href=\"#Empirical-test-of-CAPM\" data-toc-modified-id=\"Empirical-test-of-CAPM-0.2\"><span class=\"toc-item-num\">0.2&nbsp;&nbsp;</span>Empirical test of CAPM</a></span><ul class=\"toc-item\"><li><span><a href=\"#In-other-words,-fit\" data-toc-modified-id=\"In-other-words,-fit-0.2.1\"><span class=\"toc-item-num\">0.2.1&nbsp;&nbsp;</span>In other words, fit</a></span></li><li><span><a href=\"#Estimating-the-SML\" data-toc-modified-id=\"Estimating-the-SML-0.2.2\"><span class=\"toc-item-num\">0.2.2&nbsp;&nbsp;</span>Estimating the SML</a></span></li></ul></li></ul></li><li><span><a href=\"#Homework\" data-toc-modified-id=\"Homework-1\"><span class=\"toc-item-num\">1&nbsp;&nbsp;</span>Homework</a></span></li></ul></div>"
   ]
  },
  {
   "cell_type": "markdown",
   "metadata": {},
   "source": [
    "### CAPM\n",
    "\n",
    "- In this exercise we will fit CAPM with real financial data(stock prices) and test whether the predictions of CAPM are true."
   ]
  },
  {
   "cell_type": "code",
   "execution_count": 1,
   "metadata": {},
   "outputs": [],
   "source": [
    "import numpy as np \n",
    "import pandas as pd \n",
    "import matplotlib.pyplot as plt \n",
    "import seaborn as sns; sns.set()\n",
    "import pandas_datareader.data as web\n",
    "import statsmodels.api as sm\n",
    "from statsmodels.formula.api import ols "
   ]
  },
  {
   "cell_type": "markdown",
   "metadata": {},
   "source": [
    "### Empirical test of CAPM\n",
    "\n",
    "- We will conduct a simple test on whether the predictions of CAPM hold.\n",
    "    - Asset return is a function of how much risk it is exposed to.\n",
    "    - Thus, asset returns should be increasing in betas.\n",
    "- It is done by the following steps.\n",
    "    - Setting up the sample data\n",
    "    - Estimating betas\n",
    "    - Estimating the SML"
   ]
  },
  {
   "cell_type": "code",
   "execution_count": 2,
   "metadata": {},
   "outputs": [],
   "source": [
    "df = pd.read_excel('beta_data.xls',  index_col=0, parse_dates = True, header=3)"
   ]
  },
  {
   "cell_type": "code",
   "execution_count": 3,
   "metadata": {},
   "outputs": [
    {
     "data": {
      "text/html": [
       "<div>\n",
       "<style scoped>\n",
       "    .dataframe tbody tr th:only-of-type {\n",
       "        vertical-align: middle;\n",
       "    }\n",
       "\n",
       "    .dataframe tbody tr th {\n",
       "        vertical-align: top;\n",
       "    }\n",
       "\n",
       "    .dataframe thead th {\n",
       "        text-align: right;\n",
       "    }\n",
       "</style>\n",
       "<table border=\"1\" class=\"dataframe\">\n",
       "  <thead>\n",
       "    <tr style=\"text-align: right;\">\n",
       "      <th></th>\n",
       "      <th>Low Beta</th>\n",
       "      <th>2</th>\n",
       "      <th>3</th>\n",
       "      <th>High Beta</th>\n",
       "      <th>Low Beta.1</th>\n",
       "      <th>2.1</th>\n",
       "      <th>3.1</th>\n",
       "      <th>High Beta.1</th>\n",
       "      <th>Low Beta.2</th>\n",
       "      <th>2.2</th>\n",
       "      <th>...</th>\n",
       "      <th>3.5</th>\n",
       "      <th>High Beta.5</th>\n",
       "      <th>Low Beta.6</th>\n",
       "      <th>2.6</th>\n",
       "      <th>3.6</th>\n",
       "      <th>High Beta.6</th>\n",
       "      <th>Low Beta.7</th>\n",
       "      <th>2.7</th>\n",
       "      <th>3.7</th>\n",
       "      <th>High Beta.7</th>\n",
       "    </tr>\n",
       "    <tr>\n",
       "      <th>date</th>\n",
       "      <th></th>\n",
       "      <th></th>\n",
       "      <th></th>\n",
       "      <th></th>\n",
       "      <th></th>\n",
       "      <th></th>\n",
       "      <th></th>\n",
       "      <th></th>\n",
       "      <th></th>\n",
       "      <th></th>\n",
       "      <th></th>\n",
       "      <th></th>\n",
       "      <th></th>\n",
       "      <th></th>\n",
       "      <th></th>\n",
       "      <th></th>\n",
       "      <th></th>\n",
       "      <th></th>\n",
       "      <th></th>\n",
       "      <th></th>\n",
       "      <th></th>\n",
       "    </tr>\n",
       "  </thead>\n",
       "  <tbody>\n",
       "    <tr>\n",
       "      <th>196307</th>\n",
       "      <td>-0.233</td>\n",
       "      <td>-0.471</td>\n",
       "      <td>3.787</td>\n",
       "      <td>0.002</td>\n",
       "      <td>0.863</td>\n",
       "      <td>0.151</td>\n",
       "      <td>-0.597</td>\n",
       "      <td>-2.090</td>\n",
       "      <td>0.353</td>\n",
       "      <td>0.408</td>\n",
       "      <td>...</td>\n",
       "      <td>0.6966</td>\n",
       "      <td>0.5497</td>\n",
       "      <td>0.4947</td>\n",
       "      <td>0.4503</td>\n",
       "      <td>0.5452</td>\n",
       "      <td>0.8183</td>\n",
       "      <td>0.5834</td>\n",
       "      <td>0.5002</td>\n",
       "      <td>0.4438</td>\n",
       "      <td>0.3788</td>\n",
       "    </tr>\n",
       "    <tr>\n",
       "      <th>196308</th>\n",
       "      <td>1.124</td>\n",
       "      <td>-0.661</td>\n",
       "      <td>2.007</td>\n",
       "      <td>9.214</td>\n",
       "      <td>2.145</td>\n",
       "      <td>2.878</td>\n",
       "      <td>6.162</td>\n",
       "      <td>6.429</td>\n",
       "      <td>4.328</td>\n",
       "      <td>3.907</td>\n",
       "      <td>...</td>\n",
       "      <td>0.4689</td>\n",
       "      <td>0.6331</td>\n",
       "      <td>0.4935</td>\n",
       "      <td>0.4637</td>\n",
       "      <td>0.5328</td>\n",
       "      <td>0.8075</td>\n",
       "      <td>0.5463</td>\n",
       "      <td>0.5124</td>\n",
       "      <td>0.4356</td>\n",
       "      <td>0.3817</td>\n",
       "    </tr>\n",
       "    <tr>\n",
       "      <th>196309</th>\n",
       "      <td>-0.729</td>\n",
       "      <td>5.764</td>\n",
       "      <td>-0.323</td>\n",
       "      <td>-2.947</td>\n",
       "      <td>-1.337</td>\n",
       "      <td>0.236</td>\n",
       "      <td>-3.178</td>\n",
       "      <td>-4.137</td>\n",
       "      <td>-1.121</td>\n",
       "      <td>-2.219</td>\n",
       "      <td>...</td>\n",
       "      <td>0.4521</td>\n",
       "      <td>0.5482</td>\n",
       "      <td>0.4785</td>\n",
       "      <td>0.4424</td>\n",
       "      <td>0.5239</td>\n",
       "      <td>0.7232</td>\n",
       "      <td>0.5181</td>\n",
       "      <td>0.5073</td>\n",
       "      <td>0.4236</td>\n",
       "      <td>0.3678</td>\n",
       "    </tr>\n",
       "    <tr>\n",
       "      <th>196310</th>\n",
       "      <td>-0.939</td>\n",
       "      <td>1.462</td>\n",
       "      <td>0.544</td>\n",
       "      <td>2.286</td>\n",
       "      <td>-0.881</td>\n",
       "      <td>-1.154</td>\n",
       "      <td>-1.740</td>\n",
       "      <td>3.197</td>\n",
       "      <td>-0.895</td>\n",
       "      <td>-1.630</td>\n",
       "      <td>...</td>\n",
       "      <td>0.4559</td>\n",
       "      <td>0.5551</td>\n",
       "      <td>0.4871</td>\n",
       "      <td>0.4518</td>\n",
       "      <td>0.5503</td>\n",
       "      <td>0.7749</td>\n",
       "      <td>0.5119</td>\n",
       "      <td>0.5564</td>\n",
       "      <td>0.4403</td>\n",
       "      <td>0.3616</td>\n",
       "    </tr>\n",
       "    <tr>\n",
       "      <th>196311</th>\n",
       "      <td>-0.187</td>\n",
       "      <td>-0.706</td>\n",
       "      <td>-0.987</td>\n",
       "      <td>-0.994</td>\n",
       "      <td>-1.203</td>\n",
       "      <td>-0.654</td>\n",
       "      <td>-2.242</td>\n",
       "      <td>1.711</td>\n",
       "      <td>-1.314</td>\n",
       "      <td>-0.799</td>\n",
       "      <td>...</td>\n",
       "      <td>0.4660</td>\n",
       "      <td>0.6216</td>\n",
       "      <td>0.4192</td>\n",
       "      <td>0.4600</td>\n",
       "      <td>0.5125</td>\n",
       "      <td>0.6030</td>\n",
       "      <td>0.5436</td>\n",
       "      <td>0.5544</td>\n",
       "      <td>0.4434</td>\n",
       "      <td>0.3579</td>\n",
       "    </tr>\n",
       "    <tr>\n",
       "      <th>...</th>\n",
       "      <td>...</td>\n",
       "      <td>...</td>\n",
       "      <td>...</td>\n",
       "      <td>...</td>\n",
       "      <td>...</td>\n",
       "      <td>...</td>\n",
       "      <td>...</td>\n",
       "      <td>...</td>\n",
       "      <td>...</td>\n",
       "      <td>...</td>\n",
       "      <td>...</td>\n",
       "      <td>...</td>\n",
       "      <td>...</td>\n",
       "      <td>...</td>\n",
       "      <td>...</td>\n",
       "      <td>...</td>\n",
       "      <td>...</td>\n",
       "      <td>...</td>\n",
       "      <td>...</td>\n",
       "      <td>...</td>\n",
       "      <td>...</td>\n",
       "    </tr>\n",
       "    <tr>\n",
       "      <th>199808</th>\n",
       "      <td>-17.179</td>\n",
       "      <td>-16.508</td>\n",
       "      <td>-18.697</td>\n",
       "      <td>-23.085</td>\n",
       "      <td>-15.007</td>\n",
       "      <td>-16.385</td>\n",
       "      <td>-21.545</td>\n",
       "      <td>-26.331</td>\n",
       "      <td>-12.578</td>\n",
       "      <td>-16.167</td>\n",
       "      <td>...</td>\n",
       "      <td>2.0344</td>\n",
       "      <td>0.7662</td>\n",
       "      <td>0.6048</td>\n",
       "      <td>1.0952</td>\n",
       "      <td>1.5151</td>\n",
       "      <td>0.5604</td>\n",
       "      <td>0.5786</td>\n",
       "      <td>0.4059</td>\n",
       "      <td>0.2918</td>\n",
       "      <td>0.3000</td>\n",
       "    </tr>\n",
       "    <tr>\n",
       "      <th>199809</th>\n",
       "      <td>-1.690</td>\n",
       "      <td>-0.286</td>\n",
       "      <td>1.150</td>\n",
       "      <td>8.348</td>\n",
       "      <td>-0.335</td>\n",
       "      <td>2.835</td>\n",
       "      <td>4.701</td>\n",
       "      <td>9.024</td>\n",
       "      <td>3.717</td>\n",
       "      <td>4.291</td>\n",
       "      <td>...</td>\n",
       "      <td>3.3527</td>\n",
       "      <td>1.0314</td>\n",
       "      <td>0.6974</td>\n",
       "      <td>1.3192</td>\n",
       "      <td>1.1749</td>\n",
       "      <td>0.9185</td>\n",
       "      <td>0.5625</td>\n",
       "      <td>0.3886</td>\n",
       "      <td>0.3556</td>\n",
       "      <td>0.3756</td>\n",
       "    </tr>\n",
       "    <tr>\n",
       "      <th>199810</th>\n",
       "      <td>1.790</td>\n",
       "      <td>1.363</td>\n",
       "      <td>-0.061</td>\n",
       "      <td>5.254</td>\n",
       "      <td>-1.174</td>\n",
       "      <td>1.410</td>\n",
       "      <td>2.798</td>\n",
       "      <td>6.922</td>\n",
       "      <td>1.130</td>\n",
       "      <td>4.353</td>\n",
       "      <td>...</td>\n",
       "      <td>3.5288</td>\n",
       "      <td>1.1082</td>\n",
       "      <td>0.6792</td>\n",
       "      <td>1.2727</td>\n",
       "      <td>0.8448</td>\n",
       "      <td>0.8498</td>\n",
       "      <td>0.5799</td>\n",
       "      <td>0.3654</td>\n",
       "      <td>0.3276</td>\n",
       "      <td>0.3308</td>\n",
       "    </tr>\n",
       "    <tr>\n",
       "      <th>199811</th>\n",
       "      <td>7.513</td>\n",
       "      <td>6.595</td>\n",
       "      <td>13.932</td>\n",
       "      <td>15.281</td>\n",
       "      <td>5.503</td>\n",
       "      <td>6.963</td>\n",
       "      <td>9.170</td>\n",
       "      <td>9.413</td>\n",
       "      <td>4.003</td>\n",
       "      <td>4.272</td>\n",
       "      <td>...</td>\n",
       "      <td>2.5156</td>\n",
       "      <td>0.9713</td>\n",
       "      <td>0.6856</td>\n",
       "      <td>1.2767</td>\n",
       "      <td>0.8107</td>\n",
       "      <td>0.9725</td>\n",
       "      <td>0.6123</td>\n",
       "      <td>0.3210</td>\n",
       "      <td>0.2971</td>\n",
       "      <td>0.3072</td>\n",
       "    </tr>\n",
       "    <tr>\n",
       "      <th>199812</th>\n",
       "      <td>-0.337</td>\n",
       "      <td>1.355</td>\n",
       "      <td>-0.995</td>\n",
       "      <td>-1.240</td>\n",
       "      <td>-1.002</td>\n",
       "      <td>0.945</td>\n",
       "      <td>0.327</td>\n",
       "      <td>-1.433</td>\n",
       "      <td>3.075</td>\n",
       "      <td>2.548</td>\n",
       "      <td>...</td>\n",
       "      <td>2.7828</td>\n",
       "      <td>0.9209</td>\n",
       "      <td>0.6726</td>\n",
       "      <td>1.3381</td>\n",
       "      <td>0.9744</td>\n",
       "      <td>0.8793</td>\n",
       "      <td>0.5716</td>\n",
       "      <td>0.3059</td>\n",
       "      <td>0.2797</td>\n",
       "      <td>0.2649</td>\n",
       "    </tr>\n",
       "  </tbody>\n",
       "</table>\n",
       "<p>426 rows × 33 columns</p>\n",
       "</div>"
      ],
      "text/plain": [
       "        Low Beta       2       3  High Beta  Low Beta.1     2.1     3.1  \\\n",
       "date                                                                      \n",
       "196307    -0.233  -0.471   3.787      0.002       0.863   0.151  -0.597   \n",
       "196308     1.124  -0.661   2.007      9.214       2.145   2.878   6.162   \n",
       "196309    -0.729   5.764  -0.323     -2.947      -1.337   0.236  -3.178   \n",
       "196310    -0.939   1.462   0.544      2.286      -0.881  -1.154  -1.740   \n",
       "196311    -0.187  -0.706  -0.987     -0.994      -1.203  -0.654  -2.242   \n",
       "...          ...     ...     ...        ...         ...     ...     ...   \n",
       "199808   -17.179 -16.508 -18.697    -23.085     -15.007 -16.385 -21.545   \n",
       "199809    -1.690  -0.286   1.150      8.348      -0.335   2.835   4.701   \n",
       "199810     1.790   1.363  -0.061      5.254      -1.174   1.410   2.798   \n",
       "199811     7.513   6.595  13.932     15.281       5.503   6.963   9.170   \n",
       "199812    -0.337   1.355  -0.995     -1.240      -1.002   0.945   0.327   \n",
       "\n",
       "        High Beta.1  Low Beta.2     2.2  ...     3.5  High Beta.5  Low Beta.6  \\\n",
       "date                                     ...                                    \n",
       "196307       -2.090       0.353   0.408  ...  0.6966       0.5497      0.4947   \n",
       "196308        6.429       4.328   3.907  ...  0.4689       0.6331      0.4935   \n",
       "196309       -4.137      -1.121  -2.219  ...  0.4521       0.5482      0.4785   \n",
       "196310        3.197      -0.895  -1.630  ...  0.4559       0.5551      0.4871   \n",
       "196311        1.711      -1.314  -0.799  ...  0.4660       0.6216      0.4192   \n",
       "...             ...         ...     ...  ...     ...          ...         ...   \n",
       "199808      -26.331     -12.578 -16.167  ...  2.0344       0.7662      0.6048   \n",
       "199809        9.024       3.717   4.291  ...  3.3527       1.0314      0.6974   \n",
       "199810        6.922       1.130   4.353  ...  3.5288       1.1082      0.6792   \n",
       "199811        9.413       4.003   4.272  ...  2.5156       0.9713      0.6856   \n",
       "199812       -1.433       3.075   2.548  ...  2.7828       0.9209      0.6726   \n",
       "\n",
       "           2.6     3.6  High Beta.6  Low Beta.7     2.7     3.7  High Beta.7  \n",
       "date                                                                          \n",
       "196307  0.4503  0.5452       0.8183      0.5834  0.5002  0.4438       0.3788  \n",
       "196308  0.4637  0.5328       0.8075      0.5463  0.5124  0.4356       0.3817  \n",
       "196309  0.4424  0.5239       0.7232      0.5181  0.5073  0.4236       0.3678  \n",
       "196310  0.4518  0.5503       0.7749      0.5119  0.5564  0.4403       0.3616  \n",
       "196311  0.4600  0.5125       0.6030      0.5436  0.5544  0.4434       0.3579  \n",
       "...        ...     ...          ...         ...     ...     ...          ...  \n",
       "199808  1.0952  1.5151       0.5604      0.5786  0.4059  0.2918       0.3000  \n",
       "199809  1.3192  1.1749       0.9185      0.5625  0.3886  0.3556       0.3756  \n",
       "199810  1.2727  0.8448       0.8498      0.5799  0.3654  0.3276       0.3308  \n",
       "199811  1.2767  0.8107       0.9725      0.6123  0.3210  0.2971       0.3072  \n",
       "199812  1.3381  0.9744       0.8793      0.5716  0.3059  0.2797       0.2649  \n",
       "\n",
       "[426 rows x 33 columns]"
      ]
     },
     "execution_count": 3,
     "metadata": {},
     "output_type": "execute_result"
    }
   ],
   "source": [
    "df\n",
    "# 총 16개의 포트폴리오"
   ]
  },
  {
   "cell_type": "code",
   "execution_count": 4,
   "metadata": {},
   "outputs": [],
   "source": [
    "pfs = np.mat(df.iloc[:,:16]) # 16 portfolios formed on size and past beta\n",
    "factors = np.mat(df.iloc[:,16]) # market portfolio\n",
    "BMs = np.mat(df.iloc[:,17:]) # 16 portfolios formed on B/M ratio and past beta\n",
    "\n",
    "'''\n",
    "16개 포트폴리오 하나하나 factor에 넣어주는 것이 아니라\n",
    "하나의 df를 넣어줌.\n",
    "\n",
    "'''\n",
    "\n",
    "T, N = pfs.shape"
   ]
  },
  {
   "cell_type": "code",
   "execution_count": 5,
   "metadata": {},
   "outputs": [
    {
     "data": {
      "text/plain": [
       "(426, 16)"
      ]
     },
     "execution_count": 5,
     "metadata": {},
     "output_type": "execute_result"
    }
   ],
   "source": [
    "pfs.shape"
   ]
  },
  {
   "cell_type": "code",
   "execution_count": 6,
   "metadata": {},
   "outputs": [
    {
     "data": {
      "text/plain": [
       "(1, 426)"
      ]
     },
     "execution_count": 6,
     "metadata": {},
     "output_type": "execute_result"
    }
   ],
   "source": [
    "factors.shape"
   ]
  },
  {
   "cell_type": "markdown",
   "metadata": {},
   "source": [
    "1-stage time-series regression (estimating beta for each portfolio)"
   ]
  },
  {
   "cell_type": "code",
   "execution_count": 7,
   "metadata": {},
   "outputs": [
    {
     "name": "stdout",
     "output_type": "stream",
     "text": [
      "beta estimates from 1-stage time-series regression:\n",
      "rows: small to big, columns: low to high\n"
     ]
    },
    {
     "data": {
      "text/plain": [
       "matrix([[0.77842172, 0.98245255, 1.13454692, 1.33811698],\n",
       "        [0.74968325, 1.02779653, 1.21785727, 1.44684187],\n",
       "        [0.71854073, 1.01907206, 1.20557186, 1.50285895],\n",
       "        [0.71755303, 0.97620692, 1.18288207, 1.41142603]])"
      ]
     },
     "execution_count": 7,
     "metadata": {},
     "output_type": "execute_result"
    }
   ],
   "source": [
    "X = sm.add_constant(factors.T)\n",
    "\n",
    "ts_model = sm.OLS(pfs, X).fit()\n",
    "alphas = ts_model.params[0]\n",
    "betas = ts_model.params[1:]\n",
    "print(\"beta estimates from 1-stage time-series regression:\")\n",
    "print(\"rows: small to big, columns: low to high\")\n",
    "np.mat(betas).reshape(4,4)\n",
    "# x축: 베타의 크기 y축: 회사의 크기"
   ]
  },
  {
   "cell_type": "code",
   "execution_count": 8,
   "metadata": {},
   "outputs": [
    {
     "data": {
      "text/plain": [
       "array([0.77842172, 0.98245255, 1.13454692, 1.33811698, 0.74968325,\n",
       "       1.02779653, 1.21785727, 1.44684187, 0.71854073, 1.01907206,\n",
       "       1.20557186, 1.50285895, 0.71755303, 0.97620692, 1.18288207,\n",
       "       1.41142603])"
      ]
     },
     "execution_count": 8,
     "metadata": {},
     "output_type": "execute_result"
    }
   ],
   "source": [
    "betas[0]"
   ]
  },
  {
   "cell_type": "code",
   "execution_count": 9,
   "metadata": {},
   "outputs": [
    {
     "data": {
      "text/plain": [
       "array([[ 0.87209266,  0.90836198,  0.6696825 ,  0.44212114,  0.37604977,\n",
       "         0.16316823, -0.00647137, -0.46726443,  0.40286956,  0.21725524,\n",
       "         0.00202422, -0.43260566,  0.2832331 ,  0.11283406, -0.18890599,\n",
       "        -0.48956494],\n",
       "       [ 0.77842172,  0.98245255,  1.13454692,  1.33811698,  0.74968325,\n",
       "         1.02779653,  1.21785727,  1.44684187,  0.71854073,  1.01907206,\n",
       "         1.20557186,  1.50285895,  0.71755303,  0.97620692,  1.18288207,\n",
       "         1.41142603]])"
      ]
     },
     "execution_count": 9,
     "metadata": {},
     "output_type": "execute_result"
    }
   ],
   "source": [
    "ts_model.params"
   ]
  },
  {
   "cell_type": "markdown",
   "metadata": {
    "tags": []
   },
   "source": [
    "#### In other words, fit\n",
    "\n",
    "$r_{i,t} - r_{f,t} = \\alpha_i + \\beta_i \\left( r_{M,t} - r_{f,t} \\right) + u_{i,t}$ \n",
    "\n",
    "and get $\\beta_i$"
   ]
  },
  {
   "cell_type": "markdown",
   "metadata": {},
   "source": [
    "베타 값에 따라 각 포트폴리오의 기대수익률이 증가하는지를 확인"
   ]
  },
  {
   "cell_type": "code",
   "execution_count": 10,
   "metadata": {},
   "outputs": [
    {
     "name": "stdout",
     "output_type": "stream",
     "text": [
      "estimates of gamma0 and gamma1:\n",
      "[ 1.41661596 -0.08718031]\n",
      "standard errors:\n",
      "[0.36592632 0.32754168]\n",
      "t-values:\n",
      "[ 3.87131478 -0.26616556]\n"
     ]
    }
   ],
   "source": [
    "# 2-nd step cross-sectional regression (estimating SML)\n",
    "mean_ret = np.mat([np.mean(pfs[:,i]) for i in range(16)]) # 수정\n",
    "betas1 = sm.add_constant(betas.T)\n",
    "cs_model1 = sm.OLS(mean_ret.T, betas1).fit()\n",
    "\n",
    "gammas = cs_model1.params.T\n",
    "stds = cs_model1.bse\n",
    "\n",
    "print(\"estimates of gamma0 and gamma1:\")\n",
    "print(gammas)\n",
    "print(\"standard errors:\")\n",
    "print(stds)\n",
    "print(\"t-values:\")\n",
    "print(gammas/stds)"
   ]
  },
  {
   "cell_type": "code",
   "execution_count": 11,
   "metadata": {},
   "outputs": [
    {
     "name": "stderr",
     "output_type": "stream",
     "text": [
      "C:\\Users\\LOVE.DESKTOP-5CS2DDB\\anaconda3\\lib\\site-packages\\scipy\\stats\\stats.py:1541: UserWarning: kurtosistest only valid for n>=20 ... continuing anyway, n=16\n",
      "  warnings.warn(\"kurtosistest only valid for n>=20 ... continuing \"\n"
     ]
    },
    {
     "data": {
      "text/html": [
       "<table class=\"simpletable\">\n",
       "<caption>OLS Regression Results</caption>\n",
       "<tr>\n",
       "  <th>Dep. Variable:</th>            <td>y</td>        <th>  R-squared:         </th> <td>   0.005</td>\n",
       "</tr>\n",
       "<tr>\n",
       "  <th>Model:</th>                   <td>OLS</td>       <th>  Adj. R-squared:    </th> <td>  -0.066</td>\n",
       "</tr>\n",
       "<tr>\n",
       "  <th>Method:</th>             <td>Least Squares</td>  <th>  F-statistic:       </th> <td> 0.07084</td>\n",
       "</tr>\n",
       "<tr>\n",
       "  <th>Date:</th>             <td>Tue, 17 May 2022</td> <th>  Prob (F-statistic):</th>  <td> 0.794</td> \n",
       "</tr>\n",
       "<tr>\n",
       "  <th>Time:</th>                 <td>13:00:51</td>     <th>  Log-Likelihood:    </th> <td> -3.9814</td>\n",
       "</tr>\n",
       "<tr>\n",
       "  <th>No. Observations:</th>      <td>    16</td>      <th>  AIC:               </th> <td>   11.96</td>\n",
       "</tr>\n",
       "<tr>\n",
       "  <th>Df Residuals:</th>          <td>    14</td>      <th>  BIC:               </th> <td>   13.51</td>\n",
       "</tr>\n",
       "<tr>\n",
       "  <th>Df Model:</th>              <td>     1</td>      <th>                     </th>     <td> </td>   \n",
       "</tr>\n",
       "<tr>\n",
       "  <th>Covariance Type:</th>      <td>nonrobust</td>    <th>                     </th>     <td> </td>   \n",
       "</tr>\n",
       "</table>\n",
       "<table class=\"simpletable\">\n",
       "<tr>\n",
       "    <td></td>       <th>coef</th>     <th>std err</th>      <th>t</th>      <th>P>|t|</th>  <th>[0.025</th>    <th>0.975]</th>  \n",
       "</tr>\n",
       "<tr>\n",
       "  <th>const</th> <td>    1.4166</td> <td>    0.366</td> <td>    3.871</td> <td> 0.002</td> <td>    0.632</td> <td>    2.201</td>\n",
       "</tr>\n",
       "<tr>\n",
       "  <th>x1</th>    <td>   -0.0872</td> <td>    0.328</td> <td>   -0.266</td> <td> 0.794</td> <td>   -0.790</td> <td>    0.615</td>\n",
       "</tr>\n",
       "</table>\n",
       "<table class=\"simpletable\">\n",
       "<tr>\n",
       "  <th>Omnibus:</th>       <td> 3.719</td> <th>  Durbin-Watson:     </th> <td>   0.492</td>\n",
       "</tr>\n",
       "<tr>\n",
       "  <th>Prob(Omnibus):</th> <td> 0.156</td> <th>  Jarque-Bera (JB):  </th> <td>   2.854</td>\n",
       "</tr>\n",
       "<tr>\n",
       "  <th>Skew:</th>          <td> 0.993</td> <th>  Prob(JB):          </th> <td>   0.240</td>\n",
       "</tr>\n",
       "<tr>\n",
       "  <th>Kurtosis:</th>      <td> 2.418</td> <th>  Cond. No.          </th> <td>    8.76</td>\n",
       "</tr>\n",
       "</table><br/><br/>Notes:<br/>[1] Standard Errors assume that the covariance matrix of the errors is correctly specified."
      ],
      "text/plain": [
       "<class 'statsmodels.iolib.summary.Summary'>\n",
       "\"\"\"\n",
       "                            OLS Regression Results                            \n",
       "==============================================================================\n",
       "Dep. Variable:                      y   R-squared:                       0.005\n",
       "Model:                            OLS   Adj. R-squared:                 -0.066\n",
       "Method:                 Least Squares   F-statistic:                   0.07084\n",
       "Date:                Tue, 17 May 2022   Prob (F-statistic):              0.794\n",
       "Time:                        13:00:51   Log-Likelihood:                -3.9814\n",
       "No. Observations:                  16   AIC:                             11.96\n",
       "Df Residuals:                      14   BIC:                             13.51\n",
       "Df Model:                           1                                         \n",
       "Covariance Type:            nonrobust                                         \n",
       "==============================================================================\n",
       "                 coef    std err          t      P>|t|      [0.025      0.975]\n",
       "------------------------------------------------------------------------------\n",
       "const          1.4166      0.366      3.871      0.002       0.632       2.201\n",
       "x1            -0.0872      0.328     -0.266      0.794      -0.790       0.615\n",
       "==============================================================================\n",
       "Omnibus:                        3.719   Durbin-Watson:                   0.492\n",
       "Prob(Omnibus):                  0.156   Jarque-Bera (JB):                2.854\n",
       "Skew:                           0.993   Prob(JB):                        0.240\n",
       "Kurtosis:                       2.418   Cond. No.                         8.76\n",
       "==============================================================================\n",
       "\n",
       "Notes:\n",
       "[1] Standard Errors assume that the covariance matrix of the errors is correctly specified.\n",
       "\"\"\""
      ]
     },
     "execution_count": 11,
     "metadata": {},
     "output_type": "execute_result"
    }
   ],
   "source": [
    "cs_model1.summary()"
   ]
  },
  {
   "cell_type": "markdown",
   "metadata": {},
   "source": [
    "- gamma0과 gamma1이 0을 넘는다고 할 수 없음\n",
    "- t-value가 2 이상 or -2 이하이면 계수값의 정확도가 높다는 것을 의미함. \n",
    "- gamma0의 t-value는 3.87. 따라서 gamma0가 0이라는 귀무가설은 기각. 결국 0이 아니므로 CAPM 모형의 전제인 r0=0를 충족하지 못하게 됨\n",
    "- 또한 gamma1의 t-value는 -0.266. 따라서 gamma0가 0이라는 귀무가설은 기각하지 못한다. r1>0을 충족하지 못하게 됨.\n",
    "- CAPM doesn't hold\n",
    "- t 값이 크다는 것은 표준 편차가 작다는 것이다.  (독립-종속 변수간 상관도 높음)\n",
    "t 값이 작다는 것은 표준 편차가 크다는 것이다.  (관계 낮음)\n",
    "그러므로 유의미한 결과가 나오려면 t 값은 커야 한다."
   ]
  },
  {
   "cell_type": "markdown",
   "metadata": {
    "tags": []
   },
   "source": [
    "#### Estimating the SML\n",
    "$\\overline{r_i - r_f} = \\gamma_0 + \\gamma_1\\beta_i+\\epsilon_i$\n",
    "- If CAPM holds, $\\hat{\\gamma_0}=0$ and $\\hat{\\gamma_1}>0$ should hold.\n",
    "- 자산의 기대수익률을 설명"
   ]
  },
  {
   "cell_type": "markdown",
   "metadata": {},
   "source": [
    "The estimated model\n",
    "\n",
    "$\\hat{\\overline{r_i - r_f}} = 1.41^{***} - 0.087\\beta_i$"
   ]
  },
  {
   "cell_type": "markdown",
   "metadata": {},
   "source": [
    "- Does CAPM hold?\n",
    "- Given that $\\gamma_1$ is negative and insignificant, CAPM doesn't hold."
   ]
  },
  {
   "cell_type": "markdown",
   "metadata": {},
   "source": [
    "CAPM이 성립한다고 할 수 없음"
   ]
  },
  {
   "cell_type": "markdown",
   "metadata": {},
   "source": [
    "## Homework\n",
    "\n",
    "- let rf = 0\n",
    "- Estimate the model $\\overline{r_i - r_f} = \\gamma_0 + \\gamma_1\\beta_i+ \\gamma_2 s_i^2+\\epsilon_i$, where $s_i^2 = {1 \\over n-1} (r_i - \\bar{r})^2$\n",
    "- What's the meaning of $\\gamma_2$? \n",
    "- Interprete the result.\n",
    "- 위험자산의 표본분산을 추가한 모형\n",
    "- r^2가 비체계적인 위험일 때 gamma2가 어떤 의미를 지니는지 생각해봐야 함"
   ]
  },
  {
   "cell_type": "code",
   "execution_count": 12,
   "metadata": {},
   "outputs": [],
   "source": [
    "import pandas as pd\n",
    "\n",
    "# 2-nd step cross-sectional regression (estimating SML)\n",
    "mean_ret = np.mat([np.mean(pfs[:,i]) for i in range(16)]) # 수정\n",
    "sample_var = np.array([np.var(pfs[:,i]) for i in range(16)])\n",
    "\n",
    "#beta = sm.add_constant(beta.T)\n",
    "\n",
    "x = np.stack((betas[0], sample_var), axis=1)\n",
    "x = sm.add_constant(x)\n",
    "cs_model = sm.OLS(mean_ret.T, x).fit()"
   ]
  },
  {
   "cell_type": "code",
   "execution_count": 13,
   "metadata": {},
   "outputs": [
    {
     "name": "stdout",
     "output_type": "stream",
     "text": [
      "estimates of gamma0, gamma1, gamma2:\n",
      "[ 1.95340041 -1.38024251  0.02350196]\n",
      "standard errors:\n",
      "[0.21826619 0.28238634 0.00399164]\n",
      "t-values:\n",
      "[ 8.94962431 -4.88778073  5.88779355]\n"
     ]
    }
   ],
   "source": [
    "gammas = cs_model.params.T\n",
    "stds = cs_model.bse\n",
    "\n",
    "print(\"estimates of gamma0, gamma1, gamma2:\")\n",
    "print(gammas)\n",
    "print(\"standard errors:\")\n",
    "print(stds)\n",
    "print(\"t-values:\")\n",
    "print(gammas/stds)"
   ]
  },
  {
   "cell_type": "markdown",
   "metadata": {},
   "source": [
    "CAPM에서 beta가 체계적 위험을 측정한다면, 분산은 비체계적 위험을 측정할 수 있다. 그러므로 위 회귀식이 성립한다면 포트폴리오의 체계적 위험과 비체계적 위험을 모두 측정할 수 있을 것이다.\n",
    "- gamma0의 t-value: 8.949이므로 귀무가설이 기각. 1.953이라는 gamma0 추정치는 True. 따라서 r0 = 0이라는 전제를 충족하지 못한다.\n",
    "- gamma1의 t-value: -4.887이므로 귀무가설이 기각. -1.38이라는 gamma1 추정치는 True. 따라서 r1 > 0이라는 전제를 충족하지 못한다. \n",
    "- gamma2의 t-value: 5.888이므로 귀무가설이 기각. 0.023이라는 gamma2 추정치는 True. 그러나 이는 0에 가까운 값이므로 significant한 변수가 될 수 없다.\n",
    "- r2 is insignificant, so the model doesn't hold.\n",
    "- 체계적 위험과 비체계적 위험을 반영한 모델이더라도 위험자산 시장의 데이터에는 성립되지 않는다는 것을 알 수 있다."
   ]
  },
  {
   "cell_type": "code",
   "execution_count": 14,
   "metadata": {},
   "outputs": [
    {
     "name": "stderr",
     "output_type": "stream",
     "text": [
      "C:\\Users\\LOVE.DESKTOP-5CS2DDB\\anaconda3\\lib\\site-packages\\scipy\\stats\\stats.py:1541: UserWarning: kurtosistest only valid for n>=20 ... continuing anyway, n=16\n",
      "  warnings.warn(\"kurtosistest only valid for n>=20 ... continuing \"\n"
     ]
    },
    {
     "data": {
      "text/html": [
       "<table class=\"simpletable\">\n",
       "<caption>OLS Regression Results</caption>\n",
       "<tr>\n",
       "  <th>Dep. Variable:</th>            <td>y</td>        <th>  R-squared:         </th> <td>   0.729</td>\n",
       "</tr>\n",
       "<tr>\n",
       "  <th>Model:</th>                   <td>OLS</td>       <th>  Adj. R-squared:    </th> <td>   0.687</td>\n",
       "</tr>\n",
       "<tr>\n",
       "  <th>Method:</th>             <td>Least Squares</td>  <th>  F-statistic:       </th> <td>   17.45</td>\n",
       "</tr>\n",
       "<tr>\n",
       "  <th>Date:</th>             <td>Tue, 17 May 2022</td> <th>  Prob (F-statistic):</th> <td>0.000208</td>\n",
       "</tr>\n",
       "<tr>\n",
       "  <th>Time:</th>                 <td>15:00:04</td>     <th>  Log-Likelihood:    </th> <td>  6.4128</td>\n",
       "</tr>\n",
       "<tr>\n",
       "  <th>No. Observations:</th>      <td>    16</td>      <th>  AIC:               </th> <td>  -6.826</td>\n",
       "</tr>\n",
       "<tr>\n",
       "  <th>Df Residuals:</th>          <td>    13</td>      <th>  BIC:               </th> <td>  -4.508</td>\n",
       "</tr>\n",
       "<tr>\n",
       "  <th>Df Model:</th>              <td>     2</td>      <th>                     </th>     <td> </td>   \n",
       "</tr>\n",
       "<tr>\n",
       "  <th>Covariance Type:</th>      <td>nonrobust</td>    <th>                     </th>     <td> </td>   \n",
       "</tr>\n",
       "</table>\n",
       "<table class=\"simpletable\">\n",
       "<tr>\n",
       "    <td></td>       <th>coef</th>     <th>std err</th>      <th>t</th>      <th>P>|t|</th>  <th>[0.025</th>    <th>0.975]</th>  \n",
       "</tr>\n",
       "<tr>\n",
       "  <th>const</th> <td>    1.9534</td> <td>    0.218</td> <td>    8.950</td> <td> 0.000</td> <td>    1.482</td> <td>    2.425</td>\n",
       "</tr>\n",
       "<tr>\n",
       "  <th>x1</th>    <td>   -1.3802</td> <td>    0.282</td> <td>   -4.888</td> <td> 0.000</td> <td>   -1.990</td> <td>   -0.770</td>\n",
       "</tr>\n",
       "<tr>\n",
       "  <th>x2</th>    <td>    0.0235</td> <td>    0.004</td> <td>    5.888</td> <td> 0.000</td> <td>    0.015</td> <td>    0.032</td>\n",
       "</tr>\n",
       "</table>\n",
       "<table class=\"simpletable\">\n",
       "<tr>\n",
       "  <th>Omnibus:</th>       <td> 0.040</td> <th>  Durbin-Watson:     </th> <td>   1.481</td>\n",
       "</tr>\n",
       "<tr>\n",
       "  <th>Prob(Omnibus):</th> <td> 0.980</td> <th>  Jarque-Bera (JB):  </th> <td>   0.217</td>\n",
       "</tr>\n",
       "<tr>\n",
       "  <th>Skew:</th>          <td>-0.094</td> <th>  Prob(JB):          </th> <td>   0.897</td>\n",
       "</tr>\n",
       "<tr>\n",
       "  <th>Kurtosis:</th>      <td> 2.461</td> <th>  Cond. No.          </th> <td>    318.</td>\n",
       "</tr>\n",
       "</table><br/><br/>Notes:<br/>[1] Standard Errors assume that the covariance matrix of the errors is correctly specified."
      ],
      "text/plain": [
       "<class 'statsmodels.iolib.summary.Summary'>\n",
       "\"\"\"\n",
       "                            OLS Regression Results                            \n",
       "==============================================================================\n",
       "Dep. Variable:                      y   R-squared:                       0.729\n",
       "Model:                            OLS   Adj. R-squared:                  0.687\n",
       "Method:                 Least Squares   F-statistic:                     17.45\n",
       "Date:                Tue, 17 May 2022   Prob (F-statistic):           0.000208\n",
       "Time:                        15:00:04   Log-Likelihood:                 6.4128\n",
       "No. Observations:                  16   AIC:                            -6.826\n",
       "Df Residuals:                      13   BIC:                            -4.508\n",
       "Df Model:                           2                                         \n",
       "Covariance Type:            nonrobust                                         \n",
       "==============================================================================\n",
       "                 coef    std err          t      P>|t|      [0.025      0.975]\n",
       "------------------------------------------------------------------------------\n",
       "const          1.9534      0.218      8.950      0.000       1.482       2.425\n",
       "x1            -1.3802      0.282     -4.888      0.000      -1.990      -0.770\n",
       "x2             0.0235      0.004      5.888      0.000       0.015       0.032\n",
       "==============================================================================\n",
       "Omnibus:                        0.040   Durbin-Watson:                   1.481\n",
       "Prob(Omnibus):                  0.980   Jarque-Bera (JB):                0.217\n",
       "Skew:                          -0.094   Prob(JB):                        0.897\n",
       "Kurtosis:                       2.461   Cond. No.                         318.\n",
       "==============================================================================\n",
       "\n",
       "Notes:\n",
       "[1] Standard Errors assume that the covariance matrix of the errors is correctly specified.\n",
       "\"\"\""
      ]
     },
     "execution_count": 14,
     "metadata": {},
     "output_type": "execute_result"
    }
   ],
   "source": [
    "cs_model.summary()"
   ]
  },
  {
   "cell_type": "code",
   "execution_count": null,
   "metadata": {},
   "outputs": [],
   "source": []
  }
 ],
 "metadata": {
  "kernelspec": {
   "display_name": "Python 3 (ipykernel)",
   "language": "python",
   "name": "python3"
  },
  "language_info": {
   "codemirror_mode": {
    "name": "ipython",
    "version": 3
   },
   "file_extension": ".py",
   "mimetype": "text/x-python",
   "name": "python",
   "nbconvert_exporter": "python",
   "pygments_lexer": "ipython3",
   "version": "3.9.7"
  },
  "toc": {
   "base_numbering": 1,
   "nav_menu": {},
   "number_sections": true,
   "sideBar": true,
   "skip_h1_title": false,
   "title_cell": "Table of Contents",
   "title_sidebar": "Contents",
   "toc_cell": true,
   "toc_position": {},
   "toc_section_display": true,
   "toc_window_display": true
  }
 },
 "nbformat": 4,
 "nbformat_minor": 4
}
