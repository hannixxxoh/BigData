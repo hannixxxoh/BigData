{
 "cells": [
  {
   "cell_type": "markdown",
   "id": "ad72c208",
   "metadata": {
    "toc": true
   },
   "source": [
    "<h1>Table of Contents<span class=\"tocSkip\"></span></h1>\n",
    "<div class=\"toc\"><ul class=\"toc-item\"><li><span><a href=\"#Exercise-5\" data-toc-modified-id=\"Exercise-5-1\"><span class=\"toc-item-num\">1&nbsp;&nbsp;</span>Exercise 5</a></span><ul class=\"toc-item\"><li><ul class=\"toc-item\"><li><ul class=\"toc-item\"><li><span><a href=\"#(1)-국가별-산업생산지수의-월별-추이를-그리시오.\" data-toc-modified-id=\"(1)-국가별-산업생산지수의-월별-추이를-그리시오.-1.0.0.1\"><span class=\"toc-item-num\">1.0.0.1&nbsp;&nbsp;</span>(1) 국가별 산업생산지수의 월별 추이를 그리시오.</a></span></li><li><span><a href=\"#(2)-최소자승법으로-다음의-모형을-추정하시오.\" data-toc-modified-id=\"(2)-최소자승법으로-다음의-모형을-추정하시오.-1.0.0.2\"><span class=\"toc-item-num\">1.0.0.2&nbsp;&nbsp;</span>(2) 최소자승법으로 다음의 모형을 추정하시오.</a></span></li><li><span><a href=\"#(3)-각-변수에-대해-단위근-검정을-진행하시오(단,-regression-=-'c'로-설정).\" data-toc-modified-id=\"(3)-각-변수에-대해-단위근-검정을-진행하시오(단,-regression-=-'c'로-설정).-1.0.0.3\"><span class=\"toc-item-num\">1.0.0.3&nbsp;&nbsp;</span>(3) 각 변수에 대해 단위근 검정을 진행하시오(단, regression = 'c'로 설정).</a></span></li><li><span><a href=\"#(4)-각-변수들의-원-자료를-변화율로-바꾼-후,-이들에-대해-다시-단위근-검정을-진행하시오(단,-regression-=-'c'로-설정).\" data-toc-modified-id=\"(4)-각-변수들의-원-자료를-변화율로-바꾼-후,-이들에-대해-다시-단위근-검정을-진행하시오(단,-regression-=-'c'로-설정).-1.0.0.4\"><span class=\"toc-item-num\">1.0.0.4&nbsp;&nbsp;</span>(4) 각 변수들의 원 자료를 변화율로 바꾼 후, 이들에 대해 다시 단위근 검정을 진행하시오(단, regression = 'c'로 설정).</a></span></li><li><span><a href=\"#(5)-일본의-산업생산지수-원자료(변화율-x)에-대해,-acf와-pacf를-그리시오.-이로부터-어떤-결론을-도출할-수-있나요?\" data-toc-modified-id=\"(5)-일본의-산업생산지수-원자료(변화율-x)에-대해,-acf와-pacf를-그리시오.-이로부터-어떤-결론을-도출할-수-있나요?-1.0.0.5\"><span class=\"toc-item-num\">1.0.0.5&nbsp;&nbsp;</span>(5) 일본의 산업생산지수 원자료(변화율 x)에 대해, acf와 pacf를 그리시오. 이로부터 어떤 결론을 도출할 수 있나요?</a></span></li><li><span><a href=\"#(6)-일본의-산업생산지수를-ARMA(p,q)로-modeling한다고-하자.-이때,-AIC와-BIC를-기준으로-최적의-p,-q를-도출하시오.\" data-toc-modified-id=\"(6)-일본의-산업생산지수를-ARMA(p,q)로-modeling한다고-하자.-이때,-AIC와-BIC를-기준으로-최적의-p,-q를-도출하시오.-1.0.0.6\"><span class=\"toc-item-num\">1.0.0.6&nbsp;&nbsp;</span>(6) 일본의 산업생산지수를 ARMA(p,q)로 modeling한다고 하자. 이때, AIC와 BIC를 기준으로 최적의 p, q를 도출하시오.</a></span></li><li><span><a href=\"#(7)-위의-결과를-바탕으로-일본의-산업생산지수에-대한-ARMA(p,q)-모형을-만들고,-ARMA-모형에서-예측된-값과-실제-값을-산포도로-그리시오.-산포도를-기준으로-판단했을때,-일본의-산업생산지수에-대한-ARMA-모형은-괜찮은-모형입니까?\" data-toc-modified-id=\"(7)-위의-결과를-바탕으로-일본의-산업생산지수에-대한-ARMA(p,q)-모형을-만들고,-ARMA-모형에서-예측된-값과-실제-값을-산포도로-그리시오.-산포도를-기준으로-판단했을때,-일본의-산업생산지수에-대한-ARMA-모형은-괜찮은-모형입니까?-1.0.0.7\"><span class=\"toc-item-num\">1.0.0.7&nbsp;&nbsp;</span>(7) 위의 결과를 바탕으로 일본의 산업생산지수에 대한 ARMA(p,q) 모형을 만들고, ARMA 모형에서 예측된 값과 실제 값을 산포도로 그리시오. 산포도를 기준으로 판단했을때, 일본의 산업생산지수에 대한 ARMA 모형은 괜찮은 모형입니까?</a></span></li></ul></li></ul></li></ul></li></ul></div>"
   ]
  },
  {
   "cell_type": "markdown",
   "id": "0450edf0",
   "metadata": {},
   "source": [
    "# Exercise 5\n",
    "\n",
    "- 이번 과제에서는 한국, 독일, 일본, 그리고 미국의 산업생산지수 data를 이용해 수업 시간에 다룬 여러 계량모형들에 대한 실습을 진행합니다."
   ]
  },
  {
   "cell_type": "markdown",
   "id": "c4fa5ece",
   "metadata": {},
   "source": [
    "#### (1) 국가별 산업생산지수의 월별 추이를 그리시오. "
   ]
  },
  {
   "cell_type": "code",
   "execution_count": 7,
   "id": "99d95d0c",
   "metadata": {},
   "outputs": [
    {
     "data": {
      "text/html": [
       "<div>\n",
       "<style scoped>\n",
       "    .dataframe tbody tr th:only-of-type {\n",
       "        vertical-align: middle;\n",
       "    }\n",
       "\n",
       "    .dataframe tbody tr th {\n",
       "        vertical-align: top;\n",
       "    }\n",
       "\n",
       "    .dataframe thead th {\n",
       "        text-align: right;\n",
       "    }\n",
       "</style>\n",
       "<table border=\"1\" class=\"dataframe\">\n",
       "  <thead>\n",
       "    <tr style=\"text-align: right;\">\n",
       "      <th></th>\n",
       "      <th>kor_pi</th>\n",
       "      <th>ger_pi</th>\n",
       "      <th>jap_pi</th>\n",
       "      <th>usa_pi</th>\n",
       "    </tr>\n",
       "    <tr>\n",
       "      <th>factor1</th>\n",
       "      <th></th>\n",
       "      <th></th>\n",
       "      <th></th>\n",
       "      <th></th>\n",
       "    </tr>\n",
       "  </thead>\n",
       "  <tbody>\n",
       "    <tr>\n",
       "      <th>1989-01-01</th>\n",
       "      <td>19.0</td>\n",
       "      <td>67.3</td>\n",
       "      <td>98.9</td>\n",
       "      <td>61.9</td>\n",
       "    </tr>\n",
       "    <tr>\n",
       "      <th>1989-02-01</th>\n",
       "      <td>18.9</td>\n",
       "      <td>67.0</td>\n",
       "      <td>98.3</td>\n",
       "      <td>61.6</td>\n",
       "    </tr>\n",
       "    <tr>\n",
       "      <th>1989-03-01</th>\n",
       "      <td>19.1</td>\n",
       "      <td>67.5</td>\n",
       "      <td>101.8</td>\n",
       "      <td>61.8</td>\n",
       "    </tr>\n",
       "    <tr>\n",
       "      <th>1989-04-01</th>\n",
       "      <td>18.1</td>\n",
       "      <td>69.6</td>\n",
       "      <td>100.2</td>\n",
       "      <td>61.7</td>\n",
       "    </tr>\n",
       "    <tr>\n",
       "      <th>1989-05-01</th>\n",
       "      <td>19.3</td>\n",
       "      <td>66.2</td>\n",
       "      <td>100.3</td>\n",
       "      <td>61.4</td>\n",
       "    </tr>\n",
       "    <tr>\n",
       "      <th>...</th>\n",
       "      <td>...</td>\n",
       "      <td>...</td>\n",
       "      <td>...</td>\n",
       "      <td>...</td>\n",
       "    </tr>\n",
       "    <tr>\n",
       "      <th>2021-04-01</th>\n",
       "      <td>112.6</td>\n",
       "      <td>95.9</td>\n",
       "      <td>99.8</td>\n",
       "      <td>98.4</td>\n",
       "    </tr>\n",
       "    <tr>\n",
       "      <th>2021-05-01</th>\n",
       "      <td>111.1</td>\n",
       "      <td>95.2</td>\n",
       "      <td>93.8</td>\n",
       "      <td>99.0</td>\n",
       "    </tr>\n",
       "    <tr>\n",
       "      <th>2021-06-01</th>\n",
       "      <td>113.6</td>\n",
       "      <td>94.6</td>\n",
       "      <td>99.8</td>\n",
       "      <td>99.5</td>\n",
       "    </tr>\n",
       "    <tr>\n",
       "      <th>2021-07-01</th>\n",
       "      <td>113.8</td>\n",
       "      <td>95.9</td>\n",
       "      <td>98.8</td>\n",
       "      <td>100.3</td>\n",
       "    </tr>\n",
       "    <tr>\n",
       "      <th>2021-08-01</th>\n",
       "      <td>113.0</td>\n",
       "      <td>91.4</td>\n",
       "      <td>95.3</td>\n",
       "      <td>100.7</td>\n",
       "    </tr>\n",
       "  </tbody>\n",
       "</table>\n",
       "<p>392 rows × 4 columns</p>\n",
       "</div>"
      ],
      "text/plain": [
       "            kor_pi  ger_pi  jap_pi  usa_pi\n",
       "factor1                                   \n",
       "1989-01-01    19.0    67.3    98.9    61.9\n",
       "1989-02-01    18.9    67.0    98.3    61.6\n",
       "1989-03-01    19.1    67.5   101.8    61.8\n",
       "1989-04-01    18.1    69.6   100.2    61.7\n",
       "1989-05-01    19.3    66.2   100.3    61.4\n",
       "...            ...     ...     ...     ...\n",
       "2021-04-01   112.6    95.9    99.8    98.4\n",
       "2021-05-01   111.1    95.2    93.8    99.0\n",
       "2021-06-01   113.6    94.6    99.8    99.5\n",
       "2021-07-01   113.8    95.9    98.8   100.3\n",
       "2021-08-01   113.0    91.4    95.3   100.7\n",
       "\n",
       "[392 rows x 4 columns]"
      ]
     },
     "execution_count": 7,
     "metadata": {},
     "output_type": "execute_result"
    }
   ],
   "source": [
    "import pandas as pd\n",
    "import numpy as np\n",
    "\n",
    "df = pd.read_excel('./production_index.xlsx').dropna()\n",
    "df.rename(columns={'항목명1':'factor1'}, inplace=True)\n",
    "df['factor1'] = pd.to_datetime(df['factor1'])\n",
    "df.set_index('factor1', inplace=True)\n",
    "df"
   ]
  },
  {
   "cell_type": "code",
   "execution_count": 8,
   "id": "db7acb86",
   "metadata": {},
   "outputs": [
    {
     "data": {
      "text/plain": [
       "<AxesSubplot:xlabel='factor1'>"
      ]
     },
     "execution_count": 8,
     "metadata": {},
     "output_type": "execute_result"
    },
    {
     "data": {
      "image/png": "[encoded data removed]",
      "text/plain": [
       "<Figure size 432x288 with 1 Axes>"
      ]
     },
     "metadata": {
      "needs_background": "light"
     },
     "output_type": "display_data"
    }
   ],
   "source": [
    "df.kor_pi.plot()"
   ]
  },
  {
   "cell_type": "code",
   "execution_count": 9,
   "id": "74d4a3fa",
   "metadata": {},
   "outputs": [
    {
     "data": {
      "text/plain": [
       "<AxesSubplot:xlabel='factor1'>"
      ]
     },
     "execution_count": 9,
     "metadata": {},
     "output_type": "execute_result"
    },
    {
     "data": {
      "image/png": "[encoded data removed]",
      "text/plain": [
       "<Figure size 432x288 with 1 Axes>"
      ]
     },
     "metadata": {
      "needs_background": "light"
     },
     "output_type": "display_data"
    }
   ],
   "source": [
    "df.ger_pi.plot()"
   ]
  },
  {
   "cell_type": "code",
   "execution_count": 10,
   "id": "da4cddad",
   "metadata": {},
   "outputs": [
    {
     "data": {
      "text/plain": [
       "<AxesSubplot:xlabel='factor1'>"
      ]
     },
     "execution_count": 10,
     "metadata": {},
     "output_type": "execute_result"
    },
    {
     "data": {
      "image/png": "[encoded data removed]",
      "text/plain": [
       "<Figure size 432x288 with 1 Axes>"
      ]
     },
     "metadata": {
      "needs_background": "light"
     },
     "output_type": "display_data"
    }
   ],
   "source": [
    "df.jap_pi.plot()"
   ]
  },
  {
   "cell_type": "code",
   "execution_count": 11,
   "id": "d75dbb93",
   "metadata": {},
   "outputs": [
    {
     "data": {
      "text/plain": [
       "<AxesSubplot:xlabel='factor1'>"
      ]
     },
     "execution_count": 11,
     "metadata": {},
     "output_type": "execute_result"
    },
    {
     "data": {
      "image/png": "[encoded data removed]",
      "text/plain": [
       "<Figure size 432x288 with 1 Axes>"
      ]
     },
     "metadata": {
      "needs_background": "light"
     },
     "output_type": "display_data"
    }
   ],
   "source": [
    "df.usa_pi.plot()"
   ]
  },
  {
   "cell_type": "markdown",
   "id": "fe95bc2e",
   "metadata": {},
   "source": [
    "#### (2) 최소자승법으로 다음의 모형을 추정하시오.\n",
    "$$y_{kor} = \\beta_0 + \\beta_1y_{jp} + \\beta_2y_{ger} + \\beta_3y_{usa} + \\epsilon$$\n",
    "\n",
    "이 모형에서 발생하는 문제가 무엇이며 이를 어디서 확인할 수 있나요?"
   ]
  },
  {
   "cell_type": "code",
   "execution_count": 14,
   "id": "2001ba98",
   "metadata": {},
   "outputs": [
    {
     "data": {
      "text/html": [
       "<div>\n",
       "<style scoped>\n",
       "    .dataframe tbody tr th:only-of-type {\n",
       "        vertical-align: middle;\n",
       "    }\n",
       "\n",
       "    .dataframe tbody tr th {\n",
       "        vertical-align: top;\n",
       "    }\n",
       "\n",
       "    .dataframe thead th {\n",
       "        text-align: right;\n",
       "    }\n",
       "</style>\n",
       "<table border=\"1\" class=\"dataframe\">\n",
       "  <thead>\n",
       "    <tr style=\"text-align: right;\">\n",
       "      <th></th>\n",
       "      <th>const</th>\n",
       "      <th>jap_pi</th>\n",
       "      <th>ger_pi</th>\n",
       "      <th>usa_pi</th>\n",
       "    </tr>\n",
       "  </thead>\n",
       "  <tbody>\n",
       "    <tr>\n",
       "      <th>const</th>\n",
       "      <td>NaN</td>\n",
       "      <td>NaN</td>\n",
       "      <td>NaN</td>\n",
       "      <td>NaN</td>\n",
       "    </tr>\n",
       "    <tr>\n",
       "      <th>jap_pi</th>\n",
       "      <td>NaN</td>\n",
       "      <td>1.000000</td>\n",
       "      <td>0.154049</td>\n",
       "      <td>0.158112</td>\n",
       "    </tr>\n",
       "    <tr>\n",
       "      <th>ger_pi</th>\n",
       "      <td>NaN</td>\n",
       "      <td>0.154049</td>\n",
       "      <td>1.000000</td>\n",
       "      <td>0.858491</td>\n",
       "    </tr>\n",
       "    <tr>\n",
       "      <th>usa_pi</th>\n",
       "      <td>NaN</td>\n",
       "      <td>0.158112</td>\n",
       "      <td>0.858491</td>\n",
       "      <td>1.000000</td>\n",
       "    </tr>\n",
       "  </tbody>\n",
       "</table>\n",
       "</div>"
      ],
      "text/plain": [
       "        const    jap_pi    ger_pi    usa_pi\n",
       "const     NaN       NaN       NaN       NaN\n",
       "jap_pi    NaN  1.000000  0.154049  0.158112\n",
       "ger_pi    NaN  0.154049  1.000000  0.858491\n",
       "usa_pi    NaN  0.158112  0.858491  1.000000"
      ]
     },
     "execution_count": 14,
     "metadata": {},
     "output_type": "execute_result"
    }
   ],
   "source": [
    "import statsmodels.api as sm\n",
    "\n",
    "\n",
    "X = df[['jap_pi', 'ger_pi', 'usa_pi']]\n",
    "X = sm.add_constant(X)\n",
    "X.corr()"
   ]
  },
  {
   "cell_type": "markdown",
   "id": "7f20c86c",
   "metadata": {},
   "source": [
    "usa_pi와 ger_pi간의 상관관계는 0.858로 굉장히 높으며 다중공선성이 나타난다."
   ]
  },
  {
   "cell_type": "code",
   "execution_count": 15,
   "id": "1ad20758",
   "metadata": {},
   "outputs": [
    {
     "data": {
      "text/html": [
       "<table class=\"simpletable\">\n",
       "<caption>OLS Regression Results</caption>\n",
       "<tr>\n",
       "  <th>Dep. Variable:</th>         <td>kor_pi</td>      <th>  R-squared:         </th> <td>   0.941</td> \n",
       "</tr>\n",
       "<tr>\n",
       "  <th>Model:</th>                   <td>OLS</td>       <th>  Adj. R-squared:    </th> <td>   0.941</td> \n",
       "</tr>\n",
       "<tr>\n",
       "  <th>Method:</th>             <td>Least Squares</td>  <th>  F-statistic:       </th> <td>   2064.</td> \n",
       "</tr>\n",
       "<tr>\n",
       "  <th>Date:</th>             <td>Tue, 24 May 2022</td> <th>  Prob (F-statistic):</th> <td>4.86e-238</td>\n",
       "</tr>\n",
       "<tr>\n",
       "  <th>Time:</th>                 <td>22:33:15</td>     <th>  Log-Likelihood:    </th> <td> -1354.1</td> \n",
       "</tr>\n",
       "<tr>\n",
       "  <th>No. Observations:</th>      <td>   392</td>      <th>  AIC:               </th> <td>   2716.</td> \n",
       "</tr>\n",
       "<tr>\n",
       "  <th>Df Residuals:</th>          <td>   388</td>      <th>  BIC:               </th> <td>   2732.</td> \n",
       "</tr>\n",
       "<tr>\n",
       "  <th>Df Model:</th>              <td>     3</td>      <th>                     </th>     <td> </td>    \n",
       "</tr>\n",
       "<tr>\n",
       "  <th>Covariance Type:</th>      <td>nonrobust</td>    <th>                     </th>     <td> </td>    \n",
       "</tr>\n",
       "</table>\n",
       "<table class=\"simpletable\">\n",
       "<tr>\n",
       "     <td></td>       <th>coef</th>     <th>std err</th>      <th>t</th>      <th>P>|t|</th>  <th>[0.025</th>    <th>0.975]</th>  \n",
       "</tr>\n",
       "<tr>\n",
       "  <th>const</th>  <td>  -22.0297</td> <td>    6.688</td> <td>   -3.294</td> <td> 0.001</td> <td>  -35.179</td> <td>   -8.880</td>\n",
       "</tr>\n",
       "<tr>\n",
       "  <th>jap_pi</th> <td>   -1.2321</td> <td>    0.064</td> <td>  -19.267</td> <td> 0.000</td> <td>   -1.358</td> <td>   -1.106</td>\n",
       "</tr>\n",
       "<tr>\n",
       "  <th>ger_pi</th> <td>    1.8587</td> <td>    0.061</td> <td>   30.591</td> <td> 0.000</td> <td>    1.739</td> <td>    1.978</td>\n",
       "</tr>\n",
       "<tr>\n",
       "  <th>usa_pi</th> <td>    0.6343</td> <td>    0.056</td> <td>   11.280</td> <td> 0.000</td> <td>    0.524</td> <td>    0.745</td>\n",
       "</tr>\n",
       "</table>\n",
       "<table class=\"simpletable\">\n",
       "<tr>\n",
       "  <th>Omnibus:</th>       <td>89.430</td> <th>  Durbin-Watson:     </th> <td>   0.323</td>\n",
       "</tr>\n",
       "<tr>\n",
       "  <th>Prob(Omnibus):</th> <td> 0.000</td> <th>  Jarque-Bera (JB):  </th> <td> 321.926</td>\n",
       "</tr>\n",
       "<tr>\n",
       "  <th>Skew:</th>          <td> 0.978</td> <th>  Prob(JB):          </th> <td>1.24e-70</td>\n",
       "</tr>\n",
       "<tr>\n",
       "  <th>Kurtosis:</th>      <td> 6.986</td> <th>  Cond. No.          </th> <td>2.76e+03</td>\n",
       "</tr>\n",
       "</table><br/><br/>Notes:<br/>[1] Standard Errors assume that the covariance matrix of the errors is correctly specified.<br/>[2] The condition number is large, 2.76e+03. This might indicate that there are<br/>strong multicollinearity or other numerical problems."
      ],
      "text/plain": [
       "<class 'statsmodels.iolib.summary.Summary'>\n",
       "\"\"\"\n",
       "                            OLS Regression Results                            \n",
       "==============================================================================\n",
       "Dep. Variable:                 kor_pi   R-squared:                       0.941\n",
       "Model:                            OLS   Adj. R-squared:                  0.941\n",
       "Method:                 Least Squares   F-statistic:                     2064.\n",
       "Date:                Tue, 24 May 2022   Prob (F-statistic):          4.86e-238\n",
       "Time:                        22:33:15   Log-Likelihood:                -1354.1\n",
       "No. Observations:                 392   AIC:                             2716.\n",
       "Df Residuals:                     388   BIC:                             2732.\n",
       "Df Model:                           3                                         \n",
       "Covariance Type:            nonrobust                                         \n",
       "==============================================================================\n",
       "                 coef    std err          t      P>|t|      [0.025      0.975]\n",
       "------------------------------------------------------------------------------\n",
       "const        -22.0297      6.688     -3.294      0.001     -35.179      -8.880\n",
       "jap_pi        -1.2321      0.064    -19.267      0.000      -1.358      -1.106\n",
       "ger_pi         1.8587      0.061     30.591      0.000       1.739       1.978\n",
       "usa_pi         0.6343      0.056     11.280      0.000       0.524       0.745\n",
       "==============================================================================\n",
       "Omnibus:                       89.430   Durbin-Watson:                   0.323\n",
       "Prob(Omnibus):                  0.000   Jarque-Bera (JB):              321.926\n",
       "Skew:                           0.978   Prob(JB):                     1.24e-70\n",
       "Kurtosis:                       6.986   Cond. No.                     2.76e+03\n",
       "==============================================================================\n",
       "\n",
       "Notes:\n",
       "[1] Standard Errors assume that the covariance matrix of the errors is correctly specified.\n",
       "[2] The condition number is large, 2.76e+03. This might indicate that there are\n",
       "strong multicollinearity or other numerical problems.\n",
       "\"\"\""
      ]
     },
     "execution_count": 15,
     "metadata": {},
     "output_type": "execute_result"
    }
   ],
   "source": [
    "y = df['kor_pi']\n",
    "\n",
    "ols = sm.OLS(y, X)\n",
    "res = ols.fit()\n",
    "res.summary()"
   ]
  },
  {
   "cell_type": "code",
   "execution_count": 16,
   "id": "2832fc07",
   "metadata": {},
   "outputs": [
    {
     "name": "stdout",
     "output_type": "stream",
     "text": [
      "0.8374939830982188\n"
     ]
    }
   ],
   "source": [
    "print(res.resid.autocorr())"
   ]
  },
  {
   "cell_type": "markdown",
   "id": "dd57efa6",
   "metadata": {},
   "source": [
    "이 모델의 자기상관성은 0.83으로 굉장히 높다. 또한 Durbin-Watson이 0.323으로 낮으므로 오차변수들 사이에는 자기상관이 존재한다는 것을 알 수 있다. 결론적으로 높은 자기상관성은 모델의 결과를 왜곡시킬 수 있으며 해당 모델을 가지고 선형회귀분석을 실시할 수 없다."
   ]
  },
  {
   "cell_type": "markdown",
   "id": "7ff44609",
   "metadata": {},
   "source": [
    "#### (3) 각 변수에 대해 단위근 검정을 진행하시오(단, regression = 'c'로 설정)."
   ]
  },
  {
   "cell_type": "code",
   "execution_count": 17,
   "id": "59bc1226",
   "metadata": {},
   "outputs": [
    {
     "name": "stdout",
     "output_type": "stream",
     "text": [
      "(-0.4204933391755398, 0.906620484423682, 10, 381, {'1%': -3.4476305904172904, '5%': -2.869155980820355, '10%': -2.570827146203181}, 1425.1384069496098)\n",
      "\n",
      "(-1.6253927990338255, 0.4699032121007456, 2, 389, {'1%': -3.447272819026727, '5%': -2.868998737588248, '10%': -2.5707433189709294}, 1534.4678568441584)\n",
      "\n",
      "(-3.6547067873104937, 0.004797278514957843, 2, 389, {'1%': -3.447272819026727, '5%': -2.868998737588248, '10%': -2.5707433189709294}, 1584.1600518119537)\n",
      "\n",
      "(-1.6514746154565696, 0.4562714828601089, 2, 389, {'1%': -3.447272819026727, '5%': -2.868998737588248, '10%': -2.5707433189709294}, 1033.9203090415158)\n",
      "\n"
     ]
    }
   ],
   "source": [
    "from statsmodels.tsa.stattools import adfuller\n",
    "\n",
    "for col in df:\n",
    "     res = adfuller(df[col], regression='c')\n",
    "     print(res, end='\\n\\n')"
   ]
  },
  {
   "cell_type": "markdown",
   "id": "15e775fa",
   "metadata": {},
   "source": [
    "kor_pi: p-value가 -2.86으로 검정통계량이 더 크므로 유의수준 5%하에서 귀무가설을 기각하지 못한다. non-stationary.  \n",
    "ger_pi: p-value가 -2.86으로 검정통계량이 더 크므로 유의수준 5%하에서 귀무가설을 기각하지 못한다. non-stationary.  \n",
    "jap_pi: p-value가 -2.86으로 검정통계량이 더 작으므로 유의수준 5%하에서 귀무가설을 기각하고 대립가설을 채택한다. stationary.  \n",
    "usa_pi: p-value가 -2.86으로 검정통계량이 더 크므로 유의수준 5%하에서 귀무가설을 기각하지 못한다. non-stationary.  "
   ]
  },
  {
   "cell_type": "markdown",
   "id": "676e013b",
   "metadata": {},
   "source": [
    "#### (4) 각 변수들의 원 자료를 변화율로 바꾼 후, 이들에 대해 다시 단위근 검정을 진행하시오(단, regression = 'c'로 설정)."
   ]
  },
  {
   "cell_type": "code",
   "execution_count": 18,
   "id": "4d2fbc34",
   "metadata": {},
   "outputs": [
    {
     "name": "stdout",
     "output_type": "stream",
     "text": [
      "(-21.735849100797008, 0.0, 0, 390, {'1%': -3.4472291365835566, '5%': -2.8689795375849223, '10%': -2.5707330834976987}, -1774.008621747591)\n",
      "\n",
      "(-16.902122560134078, 1.0257974578000344e-29, 1, 389, {'1%': -3.447272819026727, '5%': -2.868998737588248, '10%': -2.5707433189709294}, -1805.4209877288022)\n",
      "\n",
      "(-18.321375489615477, 2.2654736427201124e-30, 0, 390, {'1%': -3.4472291365835566, '5%': -2.8689795375849223, '10%': -2.5707330834976987}, -1836.781812256374)\n",
      "\n",
      "(-14.08726362089455, 2.7612899474285917e-26, 1, 389, {'1%': -3.447272819026727, '5%': -2.868998737588248, '10%': -2.5707433189709294}, -2350.20040893434)\n",
      "\n"
     ]
    }
   ],
   "source": [
    "for col in df:\n",
    "     res = adfuller(df[col].pct_change().dropna(), regression='c')\n",
    "     print(res, end='\\n\\n')"
   ]
  },
  {
   "cell_type": "markdown",
   "id": "5fffab95",
   "metadata": {},
   "source": [
    "kor_pi: p-value가 -2.86으로 검정통계량이 더 작으므로 유의수준 5%하에서 귀무가설을 기각하고 대립가설을 채택한다. stationary.  \n",
    "ger_pi: p-value가 -2.86으로 검정통계량이 더 작으므로 유의수준 5%하에서 귀무가설을 기각하고 대립가설을 채택한다. stationary.  \n",
    "jap_pi: p-value가 -2.86으로 검정통계량이 더 작으므로 유의수준 5%하에서 귀무가설을 기각하고 대립가설을 채택한다. stationary.  \n",
    "usa_pi: p-value가 -2.86으로 검정통계량이 더 작으므로 유의수준 5%하에서 귀무가설을 기각하고 대립가설을 채택한다. stationary."
   ]
  },
  {
   "cell_type": "markdown",
   "id": "49a44292",
   "metadata": {
    "tags": []
   },
   "source": [
    "#### (5) 일본의 산업생산지수 원자료(변화율 x)에 대해, acf와 pacf를 그리시오. 이로부터 어떤 결론을 도출할 수 있나요?"
   ]
  },
  {
   "cell_type": "code",
   "execution_count": 19,
   "id": "81fce3eb",
   "metadata": {},
   "outputs": [
    {
     "data": {
      "text/plain": [
       "<Figure size 432x288 with 0 Axes>"
      ]
     },
     "metadata": {},
     "output_type": "display_data"
    },
    {
     "data": {
      "image/png": "[encoded data removed]",
      "text/plain": [
       "<Figure size 432x288 with 1 Axes>"
      ]
     },
     "metadata": {
      "needs_background": "light"
     },
     "output_type": "display_data"
    }
   ],
   "source": [
    "import pandas as pd\n",
    "import numpy as np\n",
    "from statsmodels.graphics.tsaplots import plot_acf, plot_pacf\n",
    "import statsmodels.api as sm\n",
    "import matplotlib.pyplot as plt\n",
    "\n",
    "plt.figure()\n",
    "plot_acf(np.array(df.jap_pi))\n",
    "plt.ylim([-0.4, 1.2]) \n",
    "plt.show()"
   ]
  },
  {
   "cell_type": "code",
   "execution_count": 20,
   "id": "e5f2ed19",
   "metadata": {},
   "outputs": [
    {
     "name": "stderr",
     "output_type": "stream",
     "text": [
      "C:\\Users\\LOVE.DESKTOP-5CS2DDB\\anaconda3\\lib\\site-packages\\statsmodels\\graphics\\tsaplots.py:348: FutureWarning: The default method 'yw' can produce PACF values outside of the [-1,1] interval. After 0.13, the default will change tounadjusted Yule-Walker ('ywm'). You can use this method now by setting method='ywm'.\n",
      "  warnings.warn(\n"
     ]
    },
    {
     "data": {
      "text/plain": [
       "<Figure size 432x288 with 0 Axes>"
      ]
     },
     "metadata": {},
     "output_type": "display_data"
    },
    {
     "data": {
      "image/png": "[encoded data removed]",
      "text/plain": [
       "<Figure size 432x288 with 1 Axes>"
      ]
     },
     "metadata": {
      "needs_background": "light"
     },
     "output_type": "display_data"
    }
   ],
   "source": [
    "plt.figure()\n",
    "plot_pacf(np.array(df.jap_pi))\n",
    "plt.ylim([-0.4, 1.2]) \n",
    "\n",
    "plt.show()"
   ]
  },
  {
   "cell_type": "markdown",
   "id": "e06930b3",
   "metadata": {},
   "source": [
    "#### (6) 일본의 산업생산지수를 ARMA(p,q)로 modeling한다고 하자. 이때, AIC와 BIC를 기준으로 최적의 p, q를 도출하시오."
   ]
  },
  {
   "cell_type": "code",
   "execution_count": 21,
   "id": "3336adc8",
   "metadata": {},
   "outputs": [
    {
     "name": "stderr",
     "output_type": "stream",
     "text": [
      "C:\\Users\\LOVE.DESKTOP-5CS2DDB\\anaconda3\\lib\\site-packages\\statsmodels\\tsa\\statespace\\sarimax.py:978: UserWarning: Non-invertible starting MA parameters found. Using zeros as starting parameters.\n",
      "  warn('Non-invertible starting MA parameters found.'\n",
      "C:\\Users\\LOVE.DESKTOP-5CS2DDB\\anaconda3\\lib\\site-packages\\statsmodels\\tsa\\statespace\\sarimax.py:966: UserWarning: Non-stationary starting autoregressive parameters found. Using zeros as starting parameters.\n",
      "  warn('Non-stationary starting autoregressive parameters'\n",
      "C:\\Users\\LOVE.DESKTOP-5CS2DDB\\anaconda3\\lib\\site-packages\\statsmodels\\base\\model.py:604: ConvergenceWarning: Maximum Likelihood optimization failed to converge. Check mle_retvals\n",
      "  warnings.warn(\"Maximum Likelihood optimization failed to \"\n"
     ]
    },
    {
     "data": {
      "text/plain": [
       "{'aic':              0            1            2\n",
       " 0  4744.593263  4213.891454  3736.182089\n",
       " 1  1670.883339  1672.524708  1671.614637\n",
       " 2  1672.319834  1672.884759  1673.496577\n",
       " 3  1671.836787  1673.502386  1675.365351\n",
       " 4  1673.499436  1675.451873  1674.151449,\n",
       " 'bic':              0            1            2\n",
       " 0  4748.564525  4221.833978  3748.095874\n",
       " 1  1678.825863  1684.438493  1687.499685\n",
       " 2  1684.233620  1688.769807  1693.352886\n",
       " 3  1687.721834  1693.358696  1699.192922\n",
       " 4  1693.355746  1699.279444  1701.950282,\n",
       " 'aic_min_order': (1, 0),\n",
       " 'bic_min_order': (1, 0)}"
      ]
     },
     "execution_count": 21,
     "metadata": {},
     "output_type": "execute_result"
    }
   ],
   "source": [
    "sm.tsa.arma_order_select_ic(df.jap_pi, ic=[\"aic\", \"bic\"], trend='n') #nc"
   ]
  },
  {
   "cell_type": "markdown",
   "id": "4ddf7402",
   "metadata": {},
   "source": [
    "aic와 bic를 기반으로 가장 최적의 p와 q는 (1, 0)이다"
   ]
  },
  {
   "cell_type": "code",
   "execution_count": 22,
   "id": "0d991cca",
   "metadata": {
    "scrolled": false
   },
   "outputs": [
    {
     "name": "stderr",
     "output_type": "stream",
     "text": [
      "C:\\Users\\LOVE.DESKTOP-5CS2DDB\\anaconda3\\lib\\site-packages\\statsmodels\\tsa\\base\\tsa_model.py:471: ValueWarning: No frequency information was provided, so inferred frequency MS will be used.\n",
      "  self._init_dates(dates, freq)\n",
      "C:\\Users\\LOVE.DESKTOP-5CS2DDB\\anaconda3\\lib\\site-packages\\statsmodels\\tsa\\base\\tsa_model.py:471: ValueWarning: No frequency information was provided, so inferred frequency MS will be used.\n",
      "  self._init_dates(dates, freq)\n",
      "C:\\Users\\LOVE.DESKTOP-5CS2DDB\\anaconda3\\lib\\site-packages\\statsmodels\\tsa\\base\\tsa_model.py:471: ValueWarning: No frequency information was provided, so inferred frequency MS will be used.\n",
      "  self._init_dates(dates, freq)\n"
     ]
    },
    {
     "data": {
      "text/html": [
       "<table class=\"simpletable\">\n",
       "<caption>SARIMAX Results</caption>\n",
       "<tr>\n",
       "  <th>Dep. Variable:</th>        <td>jap_pi</td>      <th>  No. Observations:  </th>    <td>392</td>  \n",
       "</tr>\n",
       "<tr>\n",
       "  <th>Model:</th>            <td>ARIMA(1, 0, 0)</td>  <th>  Log Likelihood     </th> <td>-825.294</td>\n",
       "</tr>\n",
       "<tr>\n",
       "  <th>Date:</th>            <td>Tue, 24 May 2022</td> <th>  AIC                </th> <td>1656.587</td>\n",
       "</tr>\n",
       "<tr>\n",
       "  <th>Time:</th>                <td>22:34:22</td>     <th>  BIC                </th> <td>1668.501</td>\n",
       "</tr>\n",
       "<tr>\n",
       "  <th>Sample:</th>             <td>01-01-1989</td>    <th>  HQIC               </th> <td>1661.309</td>\n",
       "</tr>\n",
       "<tr>\n",
       "  <th></th>                   <td>- 08-01-2021</td>   <th>                     </th>     <td> </td>   \n",
       "</tr>\n",
       "<tr>\n",
       "  <th>Covariance Type:</th>        <td>opg</td>       <th>                     </th>     <td> </td>   \n",
       "</tr>\n",
       "</table>\n",
       "<table class=\"simpletable\">\n",
       "<tr>\n",
       "     <td></td>       <th>coef</th>     <th>std err</th>      <th>z</th>      <th>P>|z|</th>  <th>[0.025</th>    <th>0.975]</th>  \n",
       "</tr>\n",
       "<tr>\n",
       "  <th>const</th>  <td>  101.9236</td> <td>    2.382</td> <td>   42.782</td> <td> 0.000</td> <td>   97.254</td> <td>  106.593</td>\n",
       "</tr>\n",
       "<tr>\n",
       "  <th>ar.L1</th>  <td>    0.9464</td> <td>    0.013</td> <td>   72.389</td> <td> 0.000</td> <td>    0.921</td> <td>    0.972</td>\n",
       "</tr>\n",
       "<tr>\n",
       "  <th>sigma2</th> <td>    3.9237</td> <td>    0.120</td> <td>   32.779</td> <td> 0.000</td> <td>    3.689</td> <td>    4.158</td>\n",
       "</tr>\n",
       "</table>\n",
       "<table class=\"simpletable\">\n",
       "<tr>\n",
       "  <th>Ljung-Box (L1) (Q):</th>     <td>1.57</td> <th>  Jarque-Bera (JB):  </th> <td>4478.87</td>\n",
       "</tr>\n",
       "<tr>\n",
       "  <th>Prob(Q):</th>                <td>0.21</td> <th>  Prob(JB):          </th>  <td>0.00</td>  \n",
       "</tr>\n",
       "<tr>\n",
       "  <th>Heteroskedasticity (H):</th> <td>3.74</td> <th>  Skew:              </th>  <td>-2.62</td> \n",
       "</tr>\n",
       "<tr>\n",
       "  <th>Prob(H) (two-sided):</th>    <td>0.00</td> <th>  Kurtosis:          </th>  <td>18.71</td> \n",
       "</tr>\n",
       "</table><br/><br/>Warnings:<br/>[1] Covariance matrix calculated using the outer product of gradients (complex-step)."
      ],
      "text/plain": [
       "<class 'statsmodels.iolib.summary.Summary'>\n",
       "\"\"\"\n",
       "                               SARIMAX Results                                \n",
       "==============================================================================\n",
       "Dep. Variable:                 jap_pi   No. Observations:                  392\n",
       "Model:                 ARIMA(1, 0, 0)   Log Likelihood                -825.294\n",
       "Date:                Tue, 24 May 2022   AIC                           1656.587\n",
       "Time:                        22:34:22   BIC                           1668.501\n",
       "Sample:                    01-01-1989   HQIC                          1661.309\n",
       "                         - 08-01-2021                                         \n",
       "Covariance Type:                  opg                                         \n",
       "==============================================================================\n",
       "                 coef    std err          z      P>|z|      [0.025      0.975]\n",
       "------------------------------------------------------------------------------\n",
       "const        101.9236      2.382     42.782      0.000      97.254     106.593\n",
       "ar.L1          0.9464      0.013     72.389      0.000       0.921       0.972\n",
       "sigma2         3.9237      0.120     32.779      0.000       3.689       4.158\n",
       "===================================================================================\n",
       "Ljung-Box (L1) (Q):                   1.57   Jarque-Bera (JB):              4478.87\n",
       "Prob(Q):                              0.21   Prob(JB):                         0.00\n",
       "Heteroskedasticity (H):               3.74   Skew:                            -2.62\n",
       "Prob(H) (two-sided):                  0.00   Kurtosis:                        18.71\n",
       "===================================================================================\n",
       "\n",
       "Warnings:\n",
       "[1] Covariance matrix calculated using the outer product of gradients (complex-step).\n",
       "\"\"\""
      ]
     },
     "execution_count": 22,
     "metadata": {},
     "output_type": "execute_result"
    }
   ],
   "source": [
    "m2 = sm.tsa.ARIMA(df.jap_pi, order=(1, 0, 0)) # 종속변수, 독립변수\n",
    "r = m2.fit()\n",
    "r.summary()"
   ]
  },
  {
   "cell_type": "code",
   "execution_count": 39,
   "id": "8ce43414",
   "metadata": {},
   "outputs": [
    {
     "name": "stderr",
     "output_type": "stream",
     "text": [
      "C:\\Users\\LOVE.DESKTOP-5CS2DDB\\anaconda3\\lib\\site-packages\\statsmodels\\tsa\\base\\tsa_model.py:471: ValueWarning: No frequency information was provided, so inferred frequency MS will be used.\n",
      "  self._init_dates(dates, freq)\n",
      "C:\\Users\\LOVE.DESKTOP-5CS2DDB\\anaconda3\\lib\\site-packages\\statsmodels\\tsa\\base\\tsa_model.py:471: ValueWarning: No frequency information was provided, so inferred frequency MS will be used.\n",
      "  self._init_dates(dates, freq)\n",
      "C:\\Users\\LOVE.DESKTOP-5CS2DDB\\anaconda3\\lib\\site-packages\\statsmodels\\tsa\\base\\tsa_model.py:471: ValueWarning: No frequency information was provided, so inferred frequency MS will be used.\n",
      "  self._init_dates(dates, freq)\n"
     ]
    },
    {
     "data": {
      "text/html": [
       "<table class=\"simpletable\">\n",
       "<caption>SARIMAX Results</caption>\n",
       "<tr>\n",
       "  <th>Dep. Variable:</th>        <td>jap_pi</td>      <th>  No. Observations:  </th>    <td>392</td>  \n",
       "</tr>\n",
       "<tr>\n",
       "  <th>Model:</th>            <td>ARIMA(1, 0, 1)</td>  <th>  Log Likelihood     </th> <td>-824.632</td>\n",
       "</tr>\n",
       "<tr>\n",
       "  <th>Date:</th>            <td>Tue, 24 May 2022</td> <th>  AIC                </th> <td>1657.264</td>\n",
       "</tr>\n",
       "<tr>\n",
       "  <th>Time:</th>                <td>22:42:28</td>     <th>  BIC                </th> <td>1673.149</td>\n",
       "</tr>\n",
       "<tr>\n",
       "  <th>Sample:</th>             <td>01-01-1989</td>    <th>  HQIC               </th> <td>1663.560</td>\n",
       "</tr>\n",
       "<tr>\n",
       "  <th></th>                   <td>- 08-01-2021</td>   <th>                     </th>     <td> </td>   \n",
       "</tr>\n",
       "<tr>\n",
       "  <th>Covariance Type:</th>        <td>opg</td>       <th>                     </th>     <td> </td>   \n",
       "</tr>\n",
       "</table>\n",
       "<table class=\"simpletable\">\n",
       "<tr>\n",
       "     <td></td>       <th>coef</th>     <th>std err</th>      <th>z</th>      <th>P>|z|</th>  <th>[0.025</th>    <th>0.975]</th>  \n",
       "</tr>\n",
       "<tr>\n",
       "  <th>const</th>  <td>  101.9571</td> <td>    2.274</td> <td>   44.827</td> <td> 0.000</td> <td>   97.499</td> <td>  106.415</td>\n",
       "</tr>\n",
       "<tr>\n",
       "  <th>ar.L1</th>  <td>    0.9408</td> <td>    0.017</td> <td>   56.420</td> <td> 0.000</td> <td>    0.908</td> <td>    0.974</td>\n",
       "</tr>\n",
       "<tr>\n",
       "  <th>ma.L1</th>  <td>    0.0553</td> <td>    0.034</td> <td>    1.624</td> <td> 0.104</td> <td>   -0.011</td> <td>    0.122</td>\n",
       "</tr>\n",
       "<tr>\n",
       "  <th>sigma2</th> <td>    3.9104</td> <td>    0.121</td> <td>   32.303</td> <td> 0.000</td> <td>    3.673</td> <td>    4.148</td>\n",
       "</tr>\n",
       "</table>\n",
       "<table class=\"simpletable\">\n",
       "<tr>\n",
       "  <th>Ljung-Box (L1) (Q):</th>     <td>0.03</td> <th>  Jarque-Bera (JB):  </th> <td>4217.51</td>\n",
       "</tr>\n",
       "<tr>\n",
       "  <th>Prob(Q):</th>                <td>0.87</td> <th>  Prob(JB):          </th>  <td>0.00</td>  \n",
       "</tr>\n",
       "<tr>\n",
       "  <th>Heteroskedasticity (H):</th> <td>3.62</td> <th>  Skew:              </th>  <td>-2.52</td> \n",
       "</tr>\n",
       "<tr>\n",
       "  <th>Prob(H) (two-sided):</th>    <td>0.00</td> <th>  Kurtosis:          </th>  <td>18.26</td> \n",
       "</tr>\n",
       "</table><br/><br/>Warnings:<br/>[1] Covariance matrix calculated using the outer product of gradients (complex-step)."
      ],
      "text/plain": [
       "<class 'statsmodels.iolib.summary.Summary'>\n",
       "\"\"\"\n",
       "                               SARIMAX Results                                \n",
       "==============================================================================\n",
       "Dep. Variable:                 jap_pi   No. Observations:                  392\n",
       "Model:                 ARIMA(1, 0, 1)   Log Likelihood                -824.632\n",
       "Date:                Tue, 24 May 2022   AIC                           1657.264\n",
       "Time:                        22:42:28   BIC                           1673.149\n",
       "Sample:                    01-01-1989   HQIC                          1663.560\n",
       "                         - 08-01-2021                                         \n",
       "Covariance Type:                  opg                                         \n",
       "==============================================================================\n",
       "                 coef    std err          z      P>|z|      [0.025      0.975]\n",
       "------------------------------------------------------------------------------\n",
       "const        101.9571      2.274     44.827      0.000      97.499     106.415\n",
       "ar.L1          0.9408      0.017     56.420      0.000       0.908       0.974\n",
       "ma.L1          0.0553      0.034      1.624      0.104      -0.011       0.122\n",
       "sigma2         3.9104      0.121     32.303      0.000       3.673       4.148\n",
       "===================================================================================\n",
       "Ljung-Box (L1) (Q):                   0.03   Jarque-Bera (JB):              4217.51\n",
       "Prob(Q):                              0.87   Prob(JB):                         0.00\n",
       "Heteroskedasticity (H):               3.62   Skew:                            -2.52\n",
       "Prob(H) (two-sided):                  0.00   Kurtosis:                        18.26\n",
       "===================================================================================\n",
       "\n",
       "Warnings:\n",
       "[1] Covariance matrix calculated using the outer product of gradients (complex-step).\n",
       "\"\"\""
      ]
     },
     "execution_count": 39,
     "metadata": {},
     "output_type": "execute_result"
    }
   ],
   "source": [
    "m2 = sm.tsa.ARIMA(df.jap_pi, order=(1, 0, 1)) # 종속변수, 독립변수\n",
    "r = m2.fit()\n",
    "r.summary()"
   ]
  },
  {
   "cell_type": "markdown",
   "id": "1b701974",
   "metadata": {},
   "source": [
    "실제 (1, 1)의 AIC BIC 값도 다른 p, q에 비해 적은 것을 알 수 있다."
   ]
  },
  {
   "cell_type": "markdown",
   "id": "ea5cde45",
   "metadata": {},
   "source": [
    "#### (7) 위의 결과를 바탕으로 일본의 산업생산지수에 대한 ARMA(p,q) 모형을 만들고, ARMA 모형에서 예측된 값과 실제 값을 산포도로 그리시오. 산포도를 기준으로 판단했을때, 일본의 산업생산지수에 대한 ARMA 모형은 괜찮은 모형입니까?"
   ]
  },
  {
   "cell_type": "code",
   "execution_count": 23,
   "id": "77d73af4",
   "metadata": {},
   "outputs": [],
   "source": [
    "train = df[\"jap_pi\"][:350]\n",
    "test = df[\"jap_pi\"][350:]"
   ]
  },
  {
   "cell_type": "code",
   "execution_count": 24,
   "id": "30b1c15e",
   "metadata": {
    "scrolled": true
   },
   "outputs": [
    {
     "name": "stderr",
     "output_type": "stream",
     "text": [
      "C:\\Users\\LOVE.DESKTOP-5CS2DDB\\anaconda3\\lib\\site-packages\\statsmodels\\tsa\\base\\tsa_model.py:471: ValueWarning: No frequency information was provided, so inferred frequency MS will be used.\n",
      "  self._init_dates(dates, freq)\n",
      "C:\\Users\\LOVE.DESKTOP-5CS2DDB\\anaconda3\\lib\\site-packages\\statsmodels\\tsa\\base\\tsa_model.py:471: ValueWarning: No frequency information was provided, so inferred frequency MS will be used.\n",
      "  self._init_dates(dates, freq)\n",
      "C:\\Users\\LOVE.DESKTOP-5CS2DDB\\anaconda3\\lib\\site-packages\\statsmodels\\tsa\\base\\tsa_model.py:471: ValueWarning: No frequency information was provided, so inferred frequency MS will be used.\n",
      "  self._init_dates(dates, freq)\n"
     ]
    }
   ],
   "source": [
    "model =  sm.tsa.ARIMA(train, order=(1, 0, 0))\n",
    "model_fit = model.fit()\n",
    "forecast = model_fit.forecast(steps=42)"
   ]
  },
  {
   "cell_type": "code",
   "execution_count": 36,
   "id": "c580c81b",
   "metadata": {
    "scrolled": true
   },
   "outputs": [
    {
     "data": {
      "text/plain": [
       "[<matplotlib.lines.Line2D at 0x1f529796220>]"
      ]
     },
     "execution_count": 36,
     "metadata": {},
     "output_type": "execute_result"
    },
    {
     "data": {
      "image/png": "[encoded data removed]",
      "text/plain": [
       "<Figure size 1440x360 with 1 Axes>"
      ]
     },
     "metadata": {
      "needs_background": "light"
     },
     "output_type": "display_data"
    }
   ],
   "source": [
    "plt.figure(figsize=(20,5))\n",
    "plt.plot(test)\n",
    "plt.plot(forecast)"
   ]
  },
  {
   "cell_type": "code",
   "execution_count": 37,
   "id": "709f7d42",
   "metadata": {},
   "outputs": [
    {
     "data": {
      "image/png": "[encoded data removed]",
      "text/plain": [
       "<Figure size 432x288 with 1 Axes>"
      ]
     },
     "metadata": {
      "needs_background": "light"
     },
     "output_type": "display_data"
    }
   ],
   "source": [
    "plt.scatter(test, forecast)\n",
    "plt.show()"
   ]
  },
  {
   "cell_type": "markdown",
   "id": "9295bd6a",
   "metadata": {},
   "source": [
    "산포도에서 변수들 간의 양의 상관관계와 음의 상관관계 모두 나타나고 있지 않다. 따라서 일본의 산업생산지수에 대한 ARIMA 모형은 잘 맞지 않는다고 볼 수 있다."
   ]
  },
  {
   "cell_type": "code",
   "execution_count": null,
   "id": "1598adcc",
   "metadata": {},
   "outputs": [],
   "source": []
  }
 ],
 "metadata": {
  "kernelspec": {
   "display_name": "Python 3 (ipykernel)",
   "language": "python",
   "name": "python3"
  },
  "language_info": {
   "codemirror_mode": {
    "name": "ipython",
    "version": 3
   },
   "file_extension": ".py",
   "mimetype": "text/x-python",
   "name": "python",
   "nbconvert_exporter": "python",
   "pygments_lexer": "ipython3",
   "version": "3.9.12"
  },
  "toc": {
   "base_numbering": 1,
   "nav_menu": {},
   "number_sections": true,
   "sideBar": true,
   "skip_h1_title": false,
   "title_cell": "Table of Contents",
   "title_sidebar": "Contents",
   "toc_cell": true,
   "toc_position": {},
   "toc_section_display": true,
   "toc_window_display": true
  }
 },
 "nbformat": 4,
 "nbformat_minor": 5
}
