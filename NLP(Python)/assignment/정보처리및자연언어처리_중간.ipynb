{
 "cells": [
  {
   "cell_type": "code",
   "execution_count": null,
   "id": "41fe864f",
   "metadata": {},
   "outputs": [],
   "source": [
    "import os\n",
    "os.makedirs('./Q1_Out', exist_ok=True)"
   ]
  },
  {
   "cell_type": "code",
   "execution_count": 1,
   "id": "2ec173c5",
   "metadata": {},
   "outputs": [],
   "source": [
    "# 1번\n",
    "\n",
    "import re\n",
    "import os\n",
    "\n",
    "file_list = os.listdir('./Q1/')\n",
    "for file in file_list:\n",
    "    f = open('./Q1/'+file, encoding = 'utf-8')\n",
    "    result = ''.join(re.findall('9BT.+\\t(.+\\n)', f.read()))\n",
    "    open('./Q1_Out/'+file[:-4]+'_morph.txt', 'w', encoding = 'utf-8').write(result)"
   ]
  },
  {
   "cell_type": "code",
   "execution_count": 2,
   "id": "1add1023",
   "metadata": {},
   "outputs": [],
   "source": [
    "# 2번\n",
    "\n",
    "import nltk\n",
    "from nltk.corpus import CategorizedPlaintextCorpusReader\n",
    "corpus = CategorizedPlaintextCorpusReader('./Q2', '.*', cat_pattern='^\\w\\w(\\w).+')"
   ]
  },
  {
   "cell_type": "code",
   "execution_count": 3,
   "id": "33a40794",
   "metadata": {},
   "outputs": [],
   "source": [
    "# 3번\n",
    "\n",
    "Genre = nltk.Text([i for i in corpus.raw(categories='J').split() if i != '+'])"
   ]
  },
  {
   "cell_type": "code",
   "execution_count": 4,
   "id": "6a37ac9e",
   "metadata": {},
   "outputs": [],
   "source": [
    "#4번\n",
    "\n",
    "from nltk.probability import ConditionalFreqDist\n",
    "\n",
    "Freq1 = nltk.ConditionalFreqDist((genre, word)\n",
    "                                for genre in corpus.categories()\n",
    "                                for word in re.findall('/([A-Z]+)\\s', corpus.raw(categories=genre)))"
   ]
  },
  {
   "cell_type": "code",
   "execution_count": 7,
   "id": "56e2ef5a",
   "metadata": {},
   "outputs": [],
   "source": [
    "#5번\n",
    "    \n",
    "f = open('Q5_Out.txt', 'w', encoding='utf-8')\n",
    "f.write('장르\\t태그\\t상대빈도\\n')\n",
    "for cate in Freq1:\n",
    "    for tag in Freq1[cate]:\n",
    "        f.write(f'{cate}\\t{tag}\\t{Freq1[cate][tag]/sum(Freq1[cate].values()):.6f}\\n')\n",
    "f.close()"
   ]
  }
 ],
 "metadata": {
  "kernelspec": {
   "display_name": "Python 3 (ipykernel)",
   "language": "python",
   "name": "python3"
  },
  "language_info": {
   "codemirror_mode": {
    "name": "ipython",
    "version": 3
   },
   "file_extension": ".py",
   "mimetype": "text/x-python",
   "name": "python",
   "nbconvert_exporter": "python",
   "pygments_lexer": "ipython3",
   "version": "3.9.7"
  },
  "toc": {
   "base_numbering": 1,
   "nav_menu": {},
   "number_sections": true,
   "sideBar": true,
   "skip_h1_title": false,
   "title_cell": "Table of Contents",
   "title_sidebar": "Contents",
   "toc_cell": false,
   "toc_position": {},
   "toc_section_display": true,
   "toc_window_display": false
  }
 },
 "nbformat": 4,
 "nbformat_minor": 5
}
