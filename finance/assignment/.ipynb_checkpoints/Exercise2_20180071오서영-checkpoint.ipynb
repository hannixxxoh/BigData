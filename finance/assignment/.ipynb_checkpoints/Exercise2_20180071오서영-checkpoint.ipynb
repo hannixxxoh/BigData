{
 "cells": [
  {
   "cell_type": "markdown",
   "metadata": {
    "toc": true
   },
   "source": [
    "<h1>Table of Contents<span class=\"tocSkip\"></span></h1>\n",
    "<div class=\"toc\"><ul class=\"toc-item\"><li><span><a href=\"#Overview\" data-toc-modified-id=\"Overview-1\"><span class=\"toc-item-num\">1&nbsp;&nbsp;</span>Overview</a></span><ul class=\"toc-item\"><li><ul class=\"toc-item\"><li><span><a href=\"#Introduction-to-Numpy(Numpy-Documentation)\" data-toc-modified-id=\"Introduction-to-Numpy(Numpy-Documentation)-1.0.1\"><span class=\"toc-item-num\">1.0.1&nbsp;&nbsp;</span>Introduction to Numpy(<a href=\"https://numpy.org/doc/stable/\" target=\"_blank\">Numpy Documentation</a>)</a></span></li><li><span><a href=\"#(1)-Numpy-arrays\" data-toc-modified-id=\"(1)-Numpy-arrays-1.0.2\"><span class=\"toc-item-num\">1.0.2&nbsp;&nbsp;</span>(1) Numpy arrays</a></span></li></ul></li></ul></li></ul></div>"
   ]
  },
  {
   "cell_type": "markdown",
   "metadata": {
    "id": "KOC5Lak1JjwN"
   },
   "source": [
    "# Overview\n",
    "Numpy is a first-rate library for numerical programming\n",
    "- Widely used in academia, finance and industry.\n",
    "- Mature, fast, stable and under continuous development.\n",
    "\n",
    "Numpy arrays / fundamental array processing operations \n",
    "    \n",
    "    \n",
    "### Introduction to Numpy([Numpy Documentation](https://numpy.org/doc/stable/))\n",
    "\n",
    "The essential problem that NumPy solves is fast array processing.\n",
    "\n",
    "For example, suppose we want to create an array of 1 million random draws from a uniform distribution and compute the mean.\n",
    "\n",
    "If we did this in pure Python it would be orders of magnitude slower than C or Fortran.\n",
    "\n",
    "This is because\n",
    "\n",
    "Loops in Python over Python data types like lists carry significant overhead.\n",
    "C and Fortran code contains a lot of type information that can be used for optimization.\n",
    "Various optimizations can be carried out during compilation when the compiler sees the instructions as a whole.\n",
    "However, for a task like the one described above, there’s no need to switch back to C or Fortran.    \n",
    "    \n",
    "\n"
   ]
  },
  {
   "cell_type": "markdown",
   "metadata": {
    "id": "ag1vb3wFJjwZ"
   },
   "source": [
    "- (Note) Attribute, Method\n",
    "    - Attribute : class.attribute\n",
    "        - A variable stored in an instance or class is called an attribute.\n",
    "    - Method : class.method()\n",
    "        - A function stored in an instance or class is called an method."
   ]
  },
  {
   "cell_type": "code",
   "execution_count": null,
   "metadata": {
    "id": "Q606u_QVJjwa",
    "outputId": "33cd7790-bb59-408d-d83d-a6c5b81d0705",
    "tags": []
   },
   "outputs": [
    {
     "name": "stdout",
     "output_type": "stream",
     "text": [
      "0.4999605232628474\n"
     ]
    },
    {
     "data": {
      "text/plain": [
       "0.24921512603759766"
      ]
     },
     "execution_count": 2,
     "metadata": {},
     "output_type": "execute_result"
    }
   ],
   "source": [
    "import numpy as np\n",
    "from numpy import random\n",
    "import time\n",
    "\n",
    "start = time.time()\n",
    "x = random.uniform(0, 1, size=10000000)\n",
    "print(x.mean())\n",
    "end = time.time()\n",
    "end-start"
   ]
  },
  {
   "cell_type": "markdown",
   "metadata": {
    "id": "UD0qNBXkJjwd"
   },
   "source": [
    "### (1) Numpy arrays\n",
    "\n",
    "The most important thing that Numpy defines is an array data type formally called a Numpy.ndarray.\n",
    "\n",
    "Numpy arrays power a large proportion of the scientific Python ecosystem."
   ]
  },
  {
   "cell_type": "markdown",
   "metadata": {
    "id": "M4YlOGxGJjwe"
   },
   "source": [
    "(1) Creating arrays"
   ]
  },
  {
   "cell_type": "code",
   "execution_count": null,
   "metadata": {
    "execution": {
     "iopub.execute_input": "2021-09-08T03:05:53.049894Z",
     "iopub.status.busy": "2021-09-08T03:05:53.049894Z",
     "iopub.status.idle": "2021-09-08T03:05:53.052888Z",
     "shell.execute_reply": "2021-09-08T03:05:53.052888Z",
     "shell.execute_reply.started": "2021-09-08T03:05:53.049894Z"
    },
    "id": "OYHMucaxJjwe",
    "outputId": "c3fca034-34c0-460a-c359-7c7b18cfea77"
   },
   "outputs": [
    {
     "data": {
      "text/plain": [
       "array([0., 0., 0.])"
      ]
     },
     "execution_count": 2,
     "metadata": {},
     "output_type": "execute_result"
    }
   ],
   "source": [
    "#numpy array containing only zeros.\n",
    "\n",
    "a = np.zeros(3)\n",
    "a"
   ]
  },
  {
   "cell_type": "code",
   "execution_count": null,
   "metadata": {
    "id": "xqMRZXTLJjwg",
    "outputId": "8bd32d53-e96f-472c-cc0b-1d3b8a877b58"
   },
   "outputs": [
    {
     "data": {
      "text/plain": [
       "[1, 2, 3, 4]"
      ]
     },
     "execution_count": 3,
     "metadata": {},
     "output_type": "execute_result"
    }
   ],
   "source": [
    "list([1,2,3,4])"
   ]
  },
  {
   "cell_type": "code",
   "execution_count": null,
   "metadata": {
    "execution": {
     "iopub.execute_input": "2021-09-08T03:05:53.054856Z",
     "iopub.status.busy": "2021-09-08T03:05:53.053859Z",
     "iopub.status.idle": "2021-09-08T03:05:53.062834Z",
     "shell.execute_reply": "2021-09-08T03:05:53.062834Z",
     "shell.execute_reply.started": "2021-09-08T03:05:53.054856Z"
    },
    "id": "4At4mS3YJjwi",
    "outputId": "83ebfe6a-b79c-4a00-9242-5e3eec02875c"
   },
   "outputs": [
    {
     "data": {
      "text/plain": [
       "array([1, 2, 3, 4])"
      ]
     },
     "execution_count": 4,
     "metadata": {},
     "output_type": "execute_result"
    }
   ],
   "source": [
    "#we can also create numpy arrays by np.array\n",
    "a = np.array([1, 2, 3, 4])         # From 2 to 4, with 5 elements\n",
    "a"
   ]
  },
  {
   "cell_type": "code",
   "execution_count": null,
   "metadata": {
    "execution": {
     "iopub.execute_input": "2021-09-08T03:05:53.063832Z",
     "iopub.status.busy": "2021-09-08T03:05:53.063832Z",
     "iopub.status.idle": "2021-09-08T03:05:53.069784Z",
     "shell.execute_reply": "2021-09-08T03:05:53.069784Z",
     "shell.execute_reply.started": "2021-09-08T03:05:53.063832Z"
    },
    "id": "qSbL5UOLJjwj",
    "outputId": "88fb1dc1-a758-4216-f92f-ef3999f1b60e"
   },
   "outputs": [
    {
     "data": {
      "text/plain": [
       "array([2. , 2.5, 3. , 3.5, 4. ])"
      ]
     },
     "execution_count": 5,
     "metadata": {},
     "output_type": "execute_result"
    }
   ],
   "source": [
    "#To set up a grid of evenly spaced numbers use np.linspace\n",
    "a = np.linspace(2, 4, 5) \n",
    "a"
   ]
  },
  {
   "cell_type": "code",
   "execution_count": null,
   "metadata": {
    "execution": {
     "iopub.execute_input": "2021-09-08T03:05:53.070782Z",
     "iopub.status.busy": "2021-09-08T03:05:53.070782Z",
     "iopub.status.idle": "2021-09-08T03:05:53.078770Z",
     "shell.execute_reply": "2021-09-08T03:05:53.078770Z",
     "shell.execute_reply.started": "2021-09-08T03:05:53.070782Z"
    },
    "id": "k4ko_sXtJjwl",
    "outputId": "041f0fb7-54b7-4438-a137-b12f9dd69155"
   },
   "outputs": [
    {
     "data": {
      "text/plain": [
       "array([[1],\n",
       "       [2],\n",
       "       [3],\n",
       "       [4]])"
      ]
     },
     "execution_count": 6,
     "metadata": {},
     "output_type": "execute_result"
    }
   ],
   "source": [
    "a = np.array([[1], [2], [3], [4]])         # 2D array from a list of lists\n",
    "a"
   ]
  },
  {
   "cell_type": "code",
   "execution_count": null,
   "metadata": {
    "execution": {
     "iopub.execute_input": "2021-09-08T03:05:53.079786Z",
     "iopub.status.busy": "2021-09-08T03:05:53.079786Z",
     "iopub.status.idle": "2021-09-08T03:05:53.087766Z",
     "shell.execute_reply": "2021-09-08T03:05:53.087766Z",
     "shell.execute_reply.started": "2021-09-08T03:05:53.079786Z"
    },
    "id": "AyvuKyf8Jjwl",
    "outputId": "8f2a3bc7-3fdf-44c4-f89e-d33e7946dc5a"
   },
   "outputs": [
    {
     "data": {
      "text/plain": [
       "array([[1., 0.],\n",
       "       [0., 1.]])"
      ]
     },
     "execution_count": 7,
     "metadata": {},
     "output_type": "execute_result"
    }
   ],
   "source": [
    "np.identity(2)"
   ]
  },
  {
   "cell_type": "markdown",
   "metadata": {
    "id": "pgMc99aBJjwm"
   },
   "source": [
    "(2) Shape and Dimension"
   ]
  },
  {
   "cell_type": "code",
   "execution_count": null,
   "metadata": {
    "id": "psbA6RREJjwn",
    "outputId": "d0ac7a15-21dd-4273-adcb-34f28675cac5",
    "tags": []
   },
   "outputs": [
    {
     "name": "stdout",
     "output_type": "stream",
     "text": [
      "[0. 0. 0. 0. 0. 0. 0. 0. 0. 0.]\n"
     ]
    },
    {
     "data": {
      "text/plain": [
       "(10,)"
      ]
     },
     "execution_count": 3,
     "metadata": {},
     "output_type": "execute_result"
    }
   ],
   "source": [
    "# Consider the following assignment\n",
    "\n",
    "z = np.zeros(10)\n",
    "print(z)\n",
    "# Here z is a flat array with no dimension — neither row nor column vector.\n",
    "# The dimension is recorded in the shape attribute, which is a tuple\n",
    "\n",
    "z.shape"
   ]
  },
  {
   "cell_type": "code",
   "execution_count": null,
   "metadata": {
    "id": "7XwRzGBqJjwo",
    "outputId": "6e7e1a90-a577-4b70-9f27-d77b49575b0b",
    "tags": []
   },
   "outputs": [
    {
     "name": "stdout",
     "output_type": "stream",
     "text": [
      "(2, 5)\n"
     ]
    },
    {
     "data": {
      "text/plain": [
       "array([[0., 0., 0., 0., 0.],\n",
       "       [0., 0., 0., 0., 0.]])"
      ]
     },
     "execution_count": 19,
     "metadata": {},
     "output_type": "execute_result"
    }
   ],
   "source": [
    "# To give it dimension, we can change the shape attribute\n",
    "z.shape = (2, 5) #identical to z.reshape(10,1)\n",
    "print(z.shape)\n",
    "z"
   ]
  },
  {
   "cell_type": "code",
   "execution_count": null,
   "metadata": {
    "id": "qy4gvU_2Jjwp",
    "outputId": "2f504c51-e754-48bf-cdaa-2ce2dc92e018",
    "tags": []
   },
   "outputs": [
    {
     "name": "stdout",
     "output_type": "stream",
     "text": [
      "[0 1 2 3 4 5 6 7 8]\n",
      "[[0 1 2 3 4 5 6 7 8]]\n"
     ]
    }
   ],
   "source": [
    "# add a new dimension\n",
    "x = np.arange(9)\n",
    "print(x)\n",
    "print(x[np.newaxis,:])"
   ]
  },
  {
   "cell_type": "code",
   "execution_count": null,
   "metadata": {
    "execution": {
     "iopub.execute_input": "2021-09-08T03:05:53.117790Z",
     "iopub.status.busy": "2021-09-08T03:05:53.117790Z",
     "iopub.status.idle": "2021-09-08T03:05:53.122497Z",
     "shell.execute_reply": "2021-09-08T03:05:53.122497Z",
     "shell.execute_reply.started": "2021-09-08T03:05:53.117790Z"
    },
    "id": "46bVbvf4Jjww",
    "outputId": "6a83ba2c-ba6c-4369-e958-99eac153de89"
   },
   "outputs": [
    {
     "name": "stdout",
     "output_type": "stream",
     "text": [
      "[0 1 2 3 4 5 6 7 8]\n",
      "[[0 1 2 3 4 5 6 7 8]]\n"
     ]
    }
   ],
   "source": [
    "# This is also possible\n",
    "x = np.arange(9)\n",
    "print(x)\n",
    "print(x[None, :],)"
   ]
  },
  {
   "cell_type": "code",
   "execution_count": null,
   "metadata": {
    "execution": {
     "iopub.execute_input": "2021-09-08T03:05:53.123520Z",
     "iopub.status.busy": "2021-09-08T03:05:53.123520Z",
     "iopub.status.idle": "2021-09-08T03:05:53.128115Z",
     "shell.execute_reply": "2021-09-08T03:05:53.128115Z",
     "shell.execute_reply.started": "2021-09-08T03:05:53.123520Z"
    },
    "id": "gwnF0WkrJjw2",
    "outputId": "d9486a6e-e50b-4274-866d-0cec0f8d1550"
   },
   "outputs": [
    {
     "data": {
      "text/plain": [
       "array([[0., 0.],\n",
       "       [0., 0.]])"
      ]
     },
     "execution_count": 14,
     "metadata": {},
     "output_type": "execute_result"
    }
   ],
   "source": [
    "z = np.zeros(4)\n",
    "z.shape = (2, 2)\n",
    "z"
   ]
  },
  {
   "cell_type": "code",
   "execution_count": null,
   "metadata": {
    "id": "B_7goADrJjw3",
    "outputId": "35772d3c-ae39-49d6-fe67-d535d90d0037"
   },
   "outputs": [
    {
     "data": {
      "text/plain": [
       "array([[1, 2],\n",
       "       [3, 4]])"
      ]
     },
     "execution_count": 26,
     "metadata": {},
     "output_type": "execute_result"
    }
   ],
   "source": [
    "x"
   ]
  },
  {
   "cell_type": "code",
   "execution_count": null,
   "metadata": {
    "id": "Pbe7bX4VJjw4",
    "outputId": "671dacb2-6ae6-493f-b0e7-c79ccbf287fc",
    "tags": []
   },
   "outputs": [
    {
     "name": "stdout",
     "output_type": "stream",
     "text": [
      "2 (2, 2) 4\n"
     ]
    }
   ],
   "source": [
    "x = np.array([[1,2],[3, 4]])   # why it has so many square bracket?\n",
    "print(x.ndim, x.shape, x.size)"
   ]
  },
  {
   "cell_type": "code",
   "execution_count": null,
   "metadata": {
    "execution": {
     "iopub.execute_input": "2021-09-08T03:05:53.146028Z",
     "iopub.status.busy": "2021-09-08T03:05:53.146028Z",
     "iopub.status.idle": "2021-09-08T03:05:53.168995Z",
     "shell.execute_reply": "2021-09-08T03:05:53.167993Z",
     "shell.execute_reply.started": "2021-09-08T03:05:53.146028Z"
    },
    "id": "rVO7UO88Jjw5",
    "outputId": "f2f17db4-1c95-49b7-aac7-b1ab4646b5dd"
   },
   "outputs": [
    {
     "name": "stdout",
     "output_type": "stream",
     "text": [
      "1 (4,) 4\n"
     ]
    }
   ],
   "source": [
    "x = np.array([1,2,3,4])   \n",
    "print(x.ndim, x.shape, x.size)"
   ]
  },
  {
   "cell_type": "code",
   "execution_count": null,
   "metadata": {
    "execution": {
     "iopub.execute_input": "2021-09-08T03:05:53.169992Z",
     "iopub.status.busy": "2021-09-08T03:05:53.169992Z",
     "iopub.status.idle": "2021-09-08T03:05:53.185923Z",
     "shell.execute_reply": "2021-09-08T03:05:53.184948Z",
     "shell.execute_reply.started": "2021-09-08T03:05:53.169992Z"
    },
    "id": "VxtWUUCxJjw6",
    "outputId": "5bd45c4d-62e1-4e88-b054-b92967994b1a"
   },
   "outputs": [
    {
     "name": "stdout",
     "output_type": "stream",
     "text": [
      "0 () 1\n"
     ]
    }
   ],
   "source": [
    "x = np.array(1)   \n",
    "print(x.ndim, x.shape, x.size)"
   ]
  },
  {
   "cell_type": "markdown",
   "metadata": {
    "id": "5JIfO8S1Jjw7"
   },
   "source": [
    "(3) Indexing of arrays\n",
    "- negative indexing\n",
    "- Array slicing : x[start:stop:step]"
   ]
  },
  {
   "cell_type": "code",
   "execution_count": null,
   "metadata": {
    "execution": {
     "iopub.execute_input": "2021-09-08T03:05:53.187918Z",
     "iopub.status.busy": "2021-09-08T03:05:53.186920Z",
     "iopub.status.idle": "2021-09-08T03:05:53.201907Z",
     "shell.execute_reply": "2021-09-08T03:05:53.200905Z",
     "shell.execute_reply.started": "2021-09-08T03:05:53.187918Z"
    },
    "id": "egN_oFeIJjw7",
    "outputId": "e120f768-2e72-48d6-e7fc-7425508dec2c"
   },
   "outputs": [
    {
     "data": {
      "text/plain": [
       "[0, 1, 2, 3, 4, 5, 6, 7, 8, 9]"
      ]
     },
     "execution_count": 18,
     "metadata": {},
     "output_type": "execute_result"
    }
   ],
   "source": [
    "list(range(10))"
   ]
  },
  {
   "cell_type": "code",
   "execution_count": null,
   "metadata": {
    "execution": {
     "iopub.execute_input": "2021-09-08T03:05:53.202877Z",
     "iopub.status.busy": "2021-09-08T03:05:53.202877Z",
     "iopub.status.idle": "2021-09-08T03:05:53.213881Z",
     "shell.execute_reply": "2021-09-08T03:05:53.212884Z",
     "shell.execute_reply.started": "2021-09-08T03:05:53.202877Z"
    },
    "id": "5bUUBT-eJjw8",
    "outputId": "d8646a58-9690-43e2-ce18-d0864cd5cfe3"
   },
   "outputs": [
    {
     "name": "stdout",
     "output_type": "stream",
     "text": [
      "[0 1 2 3 4 5 6 7 8 9]\n",
      "1 (10,) 10\n"
     ]
    }
   ],
   "source": [
    "x = np.arange(10)\n",
    "print(x)\n",
    "print(x.ndim, x.shape, x.size)"
   ]
  },
  {
   "cell_type": "code",
   "execution_count": null,
   "metadata": {
    "execution": {
     "iopub.execute_input": "2021-09-08T03:05:53.214879Z",
     "iopub.status.busy": "2021-09-08T03:05:53.214879Z",
     "iopub.status.idle": "2021-09-08T03:05:53.223858Z",
     "shell.execute_reply": "2021-09-08T03:05:53.222881Z",
     "shell.execute_reply.started": "2021-09-08T03:05:53.214879Z"
    },
    "id": "0XBEIOBWJjw9",
    "outputId": "62e9a4d9-d2be-48e3-e25a-7c8cae0983ae"
   },
   "outputs": [
    {
     "name": "stdout",
     "output_type": "stream",
     "text": [
      "9\n",
      "9\n"
     ]
    }
   ],
   "source": [
    "print(x[9])\n",
    "print(x[-1])"
   ]
  },
  {
   "cell_type": "code",
   "execution_count": null,
   "metadata": {
    "execution": {
     "iopub.execute_input": "2021-09-08T03:05:53.224853Z",
     "iopub.status.busy": "2021-09-08T03:05:53.224853Z",
     "iopub.status.idle": "2021-09-08T03:05:53.238902Z",
     "shell.execute_reply": "2021-09-08T03:05:53.237921Z",
     "shell.execute_reply.started": "2021-09-08T03:05:53.224853Z"
    },
    "id": "MI83cZMdJjw9",
    "outputId": "48482b68-f741-48ee-d257-a8dd9367892b"
   },
   "outputs": [
    {
     "data": {
      "text/plain": [
       "array([2, 3, 4, 5, 6, 7, 8, 9])"
      ]
     },
     "execution_count": 21,
     "metadata": {},
     "output_type": "execute_result"
    }
   ],
   "source": [
    "x[2:]"
   ]
  },
  {
   "cell_type": "code",
   "execution_count": null,
   "metadata": {
    "execution": {
     "iopub.execute_input": "2021-09-08T03:05:53.239895Z",
     "iopub.status.busy": "2021-09-08T03:05:53.239895Z",
     "iopub.status.idle": "2021-09-08T03:05:53.250857Z",
     "shell.execute_reply": "2021-09-08T03:05:53.250857Z",
     "shell.execute_reply.started": "2021-09-08T03:05:53.239895Z"
    },
    "id": "NHfyQoZAJjw9",
    "outputId": "ec73aeeb-a971-44ca-d657-108db91acf86"
   },
   "outputs": [
    {
     "data": {
      "text/plain": [
       "array([0, 1, 2, 3, 4, 5, 6, 7, 8])"
      ]
     },
     "execution_count": 22,
     "metadata": {},
     "output_type": "execute_result"
    }
   ],
   "source": [
    "x[:-1]"
   ]
  },
  {
   "cell_type": "code",
   "execution_count": null,
   "metadata": {
    "execution": {
     "iopub.execute_input": "2021-09-08T03:05:53.251832Z",
     "iopub.status.busy": "2021-09-08T03:05:53.251832Z",
     "iopub.status.idle": "2021-09-08T03:05:53.263471Z",
     "shell.execute_reply": "2021-09-08T03:05:53.263471Z",
     "shell.execute_reply.started": "2021-09-08T03:05:53.251832Z"
    },
    "id": "5HFSAl1sJjw9",
    "outputId": "c32e323d-543d-4263-898e-dbcf75491258"
   },
   "outputs": [
    {
     "data": {
      "text/plain": [
       "array([4, 5, 6])"
      ]
     },
     "execution_count": 23,
     "metadata": {},
     "output_type": "execute_result"
    }
   ],
   "source": [
    "x[4:7] "
   ]
  },
  {
   "cell_type": "code",
   "execution_count": null,
   "metadata": {
    "execution": {
     "iopub.execute_input": "2021-09-08T03:05:53.264422Z",
     "iopub.status.busy": "2021-09-08T03:05:53.264422Z",
     "iopub.status.idle": "2021-09-08T03:05:53.276098Z",
     "shell.execute_reply": "2021-09-08T03:05:53.276098Z",
     "shell.execute_reply.started": "2021-09-08T03:05:53.264422Z"
    },
    "id": "XEAMBzx-Jjw-",
    "outputId": "1e7b4bf1-c071-44a2-d258-ab5a66183d92"
   },
   "outputs": [
    {
     "data": {
      "text/plain": [
       "array([0, 2, 4, 6, 8])"
      ]
     },
     "execution_count": 24,
     "metadata": {},
     "output_type": "execute_result"
    }
   ],
   "source": [
    "x[::2]"
   ]
  },
  {
   "cell_type": "code",
   "execution_count": null,
   "metadata": {
    "execution": {
     "iopub.execute_input": "2021-09-08T03:05:53.277109Z",
     "iopub.status.busy": "2021-09-08T03:05:53.277109Z",
     "iopub.status.idle": "2021-09-08T03:05:53.289063Z",
     "shell.execute_reply": "2021-09-08T03:05:53.289063Z",
     "shell.execute_reply.started": "2021-09-08T03:05:53.277109Z"
    },
    "id": "QCQ6Pbl5Jjw-",
    "outputId": "6e0e7c25-9ba8-4929-f84b-ed3fdfa7342b"
   },
   "outputs": [
    {
     "data": {
      "text/plain": [
       "array([2, 1, 0])"
      ]
     },
     "execution_count": 25,
     "metadata": {},
     "output_type": "execute_result"
    }
   ],
   "source": [
    "x[2::-1]"
   ]
  },
  {
   "cell_type": "code",
   "execution_count": null,
   "metadata": {
    "execution": {
     "iopub.execute_input": "2021-09-08T03:05:53.290060Z",
     "iopub.status.busy": "2021-09-08T03:05:53.290060Z",
     "iopub.status.idle": "2021-09-08T03:05:53.301078Z",
     "shell.execute_reply": "2021-09-08T03:05:53.301078Z",
     "shell.execute_reply.started": "2021-09-08T03:05:53.290060Z"
    },
    "id": "XRr8gl0pJjw_",
    "outputId": "d9adb321-6b4b-48fa-c9db-240a80cbb21a"
   },
   "outputs": [
    {
     "data": {
      "text/plain": [
       "array([2, 5, 8])"
      ]
     },
     "execution_count": 26,
     "metadata": {},
     "output_type": "execute_result"
    }
   ],
   "source": [
    "x[2::3]"
   ]
  },
  {
   "cell_type": "code",
   "execution_count": null,
   "metadata": {
    "execution": {
     "iopub.execute_input": "2021-09-08T03:05:53.302028Z",
     "iopub.status.busy": "2021-09-08T03:05:53.302028Z",
     "iopub.status.idle": "2021-09-08T03:05:53.313004Z",
     "shell.execute_reply": "2021-09-08T03:05:53.313004Z",
     "shell.execute_reply.started": "2021-09-08T03:05:53.302028Z"
    },
    "id": "eD3z8_YUJjxA"
   },
   "outputs": [],
   "source": [
    "x = np.arange(12).reshape(3,4)"
   ]
  },
  {
   "cell_type": "code",
   "execution_count": null,
   "metadata": {
    "id": "Za-GunRQJjxA",
    "outputId": "595fa2a7-7ee5-4720-af9a-8be9e781687a"
   },
   "outputs": [
    {
     "data": {
      "text/plain": [
       "array([[ 0,  1,  2,  3],\n",
       "       [ 4,  5,  6,  7],\n",
       "       [ 8,  9, 10, 11]])"
      ]
     },
     "execution_count": 28,
     "metadata": {},
     "output_type": "execute_result"
    }
   ],
   "source": [
    "x"
   ]
  },
  {
   "cell_type": "code",
   "execution_count": null,
   "metadata": {
    "execution": {
     "iopub.execute_input": "2021-09-08T03:05:53.313997Z",
     "iopub.status.busy": "2021-09-08T03:05:53.313997Z",
     "iopub.status.idle": "2021-09-08T03:05:53.326961Z",
     "shell.execute_reply": "2021-09-08T03:05:53.326961Z",
     "shell.execute_reply.started": "2021-09-08T03:05:53.313997Z"
    },
    "id": "oAcd5x67JjxA",
    "outputId": "347e2129-223c-4482-d179-60f6cea081f5"
   },
   "outputs": [
    {
     "data": {
      "text/plain": [
       "7"
      ]
     },
     "execution_count": 29,
     "metadata": {},
     "output_type": "execute_result"
    }
   ],
   "source": [
    "x[1,-1]"
   ]
  },
  {
   "cell_type": "code",
   "execution_count": null,
   "metadata": {
    "execution": {
     "iopub.execute_input": "2021-09-08T03:05:53.327958Z",
     "iopub.status.busy": "2021-09-08T03:05:53.327958Z",
     "iopub.status.idle": "2021-09-08T03:05:53.338904Z",
     "shell.execute_reply": "2021-09-08T03:05:53.338904Z",
     "shell.execute_reply.started": "2021-09-08T03:05:53.327958Z"
    },
    "id": "3n8DenbYJjxB",
    "outputId": "972fc935-89c8-47ae-edb1-cf270e986cf8"
   },
   "outputs": [
    {
     "data": {
      "text/plain": [
       "9"
      ]
     },
     "execution_count": 30,
     "metadata": {},
     "output_type": "execute_result"
    }
   ],
   "source": [
    "x[-1,-3]"
   ]
  },
  {
   "cell_type": "code",
   "execution_count": null,
   "metadata": {
    "execution": {
     "iopub.execute_input": "2021-09-08T03:05:53.339901Z",
     "iopub.status.busy": "2021-09-08T03:05:53.339901Z",
     "iopub.status.idle": "2021-09-08T03:05:53.351893Z",
     "shell.execute_reply": "2021-09-08T03:05:53.351893Z",
     "shell.execute_reply.started": "2021-09-08T03:05:53.339901Z"
    },
    "id": "0RHlA9XNJjxB",
    "outputId": "685a7d5d-dcff-43f3-94ee-893bd141aed0"
   },
   "outputs": [
    {
     "data": {
      "text/plain": [
       "array([ 8,  9, 10, 11])"
      ]
     },
     "execution_count": 31,
     "metadata": {},
     "output_type": "execute_result"
    }
   ],
   "source": [
    "x[-1] #equivalent : x[-1,:]"
   ]
  },
  {
   "cell_type": "code",
   "execution_count": null,
   "metadata": {
    "execution": {
     "iopub.execute_input": "2021-09-08T03:05:53.355859Z",
     "iopub.status.busy": "2021-09-08T03:05:53.354861Z",
     "iopub.status.idle": "2021-09-08T03:05:53.366901Z",
     "shell.execute_reply": "2021-09-08T03:05:53.366901Z",
     "shell.execute_reply.started": "2021-09-08T03:05:53.354861Z"
    },
    "id": "vNNiaG7gJjxB",
    "outputId": "8b7f7cab-2c85-474c-9ca9-ffc8fe9b8878"
   },
   "outputs": [
    {
     "data": {
      "text/plain": [
       "array([ 3,  7, 11])"
      ]
     },
     "execution_count": 32,
     "metadata": {},
     "output_type": "execute_result"
    }
   ],
   "source": [
    "x[:,-1]"
   ]
  },
  {
   "cell_type": "markdown",
   "metadata": {
    "id": "tChBUm6hJjxE"
   },
   "source": [
    "(4) Method of arrays"
   ]
  },
  {
   "cell_type": "code",
   "execution_count": null,
   "metadata": {
    "id": "jGtE6zpEJjxF",
    "outputId": "39945846-e541-4ecf-985d-23498500c920",
    "tags": []
   },
   "outputs": [
    {
     "data": {
      "text/plain": [
       "array([4, 3, 2, 1])"
      ]
     },
     "execution_count": 10,
     "metadata": {},
     "output_type": "execute_result"
    }
   ],
   "source": [
    "a = np.array((4, 3, 2, 1))\n",
    "a"
   ]
  },
  {
   "cell_type": "code",
   "execution_count": null,
   "metadata": {
    "id": "w06BCgTfJjxF",
    "outputId": "45d3200e-7eb2-448c-ec5f-28cdfaf58c57",
    "tags": []
   },
   "outputs": [
    {
     "data": {
      "text/plain": [
       "array([1, 2, 3, 4])"
      ]
     },
     "execution_count": 11,
     "metadata": {},
     "output_type": "execute_result"
    }
   ],
   "source": [
    "a.sort()              # Sorts a in place\n",
    "a"
   ]
  },
  {
   "cell_type": "code",
   "execution_count": null,
   "metadata": {
    "execution": {
     "iopub.execute_input": "2021-09-08T03:05:53.393632Z",
     "iopub.status.busy": "2021-09-08T03:05:53.393632Z",
     "iopub.status.idle": "2021-09-08T03:05:53.407217Z",
     "shell.execute_reply": "2021-09-08T03:05:53.407217Z",
     "shell.execute_reply.started": "2021-09-08T03:05:53.393632Z"
    },
    "id": "J3jmEYeFJjxP",
    "outputId": "c573856d-148c-4671-a1e3-ac88ff6075da"
   },
   "outputs": [
    {
     "data": {
      "text/plain": [
       "10"
      ]
     },
     "execution_count": 35,
     "metadata": {},
     "output_type": "execute_result"
    }
   ],
   "source": [
    "a.sum()   "
   ]
  },
  {
   "cell_type": "code",
   "execution_count": null,
   "metadata": {
    "execution": {
     "iopub.execute_input": "2021-09-08T03:05:53.408227Z",
     "iopub.status.busy": "2021-09-08T03:05:53.408227Z",
     "iopub.status.idle": "2021-09-08T03:05:53.421181Z",
     "shell.execute_reply": "2021-09-08T03:05:53.421181Z",
     "shell.execute_reply.started": "2021-09-08T03:05:53.408227Z"
    },
    "id": "JSS2oCFWJjxZ",
    "outputId": "9ef15b95-6b69-4981-8804-bb38a460c252"
   },
   "outputs": [
    {
     "data": {
      "text/plain": [
       "2.5"
      ]
     },
     "execution_count": 36,
     "metadata": {},
     "output_type": "execute_result"
    }
   ],
   "source": [
    "a.mean()"
   ]
  },
  {
   "cell_type": "code",
   "execution_count": null,
   "metadata": {
    "execution": {
     "iopub.execute_input": "2021-09-08T03:05:53.422178Z",
     "iopub.status.busy": "2021-09-08T03:05:53.422178Z",
     "iopub.status.idle": "2021-09-08T03:05:53.435540Z",
     "shell.execute_reply": "2021-09-08T03:05:53.435540Z",
     "shell.execute_reply.started": "2021-09-08T03:05:53.422178Z"
    },
    "id": "Oaq0u5R6Jjxa",
    "outputId": "0e94de48-7cca-40b7-e710-60025e30cfbd"
   },
   "outputs": [
    {
     "data": {
      "text/plain": [
       "4"
      ]
     },
     "execution_count": 37,
     "metadata": {},
     "output_type": "execute_result"
    }
   ],
   "source": [
    "a.max()"
   ]
  },
  {
   "cell_type": "code",
   "execution_count": null,
   "metadata": {
    "execution": {
     "iopub.execute_input": "2021-09-08T03:05:53.436483Z",
     "iopub.status.busy": "2021-09-08T03:05:53.436483Z",
     "iopub.status.idle": "2021-09-08T03:05:53.449063Z",
     "shell.execute_reply": "2021-09-08T03:05:53.449063Z",
     "shell.execute_reply.started": "2021-09-08T03:05:53.436483Z"
    },
    "id": "H_m0lZTgJjxa",
    "outputId": "ea615536-cce8-4c90-9058-93ecd564763c"
   },
   "outputs": [
    {
     "data": {
      "text/plain": [
       "3"
      ]
     },
     "execution_count": 38,
     "metadata": {},
     "output_type": "execute_result"
    }
   ],
   "source": [
    "a.argmax()"
   ]
  },
  {
   "cell_type": "code",
   "execution_count": null,
   "metadata": {
    "execution": {
     "iopub.execute_input": "2021-09-08T03:05:53.450058Z",
     "iopub.status.busy": "2021-09-08T03:05:53.450058Z",
     "iopub.status.idle": "2021-09-08T03:05:53.465016Z",
     "shell.execute_reply": "2021-09-08T03:05:53.464038Z",
     "shell.execute_reply.started": "2021-09-08T03:05:53.450058Z"
    },
    "id": "eins5CirJjxa",
    "outputId": "058aa4d1-4328-4a31-b2f1-ac0a1768b9fa"
   },
   "outputs": [
    {
     "data": {
      "text/plain": [
       "array([ 1,  3,  6, 10], dtype=int32)"
      ]
     },
     "execution_count": 39,
     "metadata": {},
     "output_type": "execute_result"
    }
   ],
   "source": [
    "a.cumsum()"
   ]
  },
  {
   "cell_type": "code",
   "execution_count": null,
   "metadata": {
    "execution": {
     "iopub.execute_input": "2021-09-08T03:05:53.467010Z",
     "iopub.status.busy": "2021-09-08T03:05:53.467010Z",
     "iopub.status.idle": "2021-09-08T03:05:53.480978Z",
     "shell.execute_reply": "2021-09-08T03:05:53.479955Z",
     "shell.execute_reply.started": "2021-09-08T03:05:53.467010Z"
    },
    "id": "8Zv7CraFJjxb",
    "outputId": "9a864b8b-be7d-44a8-e458-29ffb39cfca3"
   },
   "outputs": [
    {
     "data": {
      "text/plain": [
       "array([ 1,  2,  6, 24], dtype=int32)"
      ]
     },
     "execution_count": 40,
     "metadata": {},
     "output_type": "execute_result"
    }
   ],
   "source": [
    "a.cumprod()     "
   ]
  },
  {
   "cell_type": "code",
   "execution_count": null,
   "metadata": {
    "execution": {
     "iopub.execute_input": "2021-09-08T03:05:53.482947Z",
     "iopub.status.busy": "2021-09-08T03:05:53.482947Z",
     "iopub.status.idle": "2021-09-08T03:05:53.496933Z",
     "shell.execute_reply": "2021-09-08T03:05:53.495934Z",
     "shell.execute_reply.started": "2021-09-08T03:05:53.482947Z"
    },
    "id": "Hl0t3GA5Jjxb",
    "outputId": "c5b5f864-330f-418d-9b8a-4fb2ea18fea8"
   },
   "outputs": [
    {
     "data": {
      "text/plain": [
       "1.25"
      ]
     },
     "execution_count": 41,
     "metadata": {},
     "output_type": "execute_result"
    }
   ],
   "source": [
    "a.var()   "
   ]
  },
  {
   "cell_type": "code",
   "execution_count": null,
   "metadata": {
    "execution": {
     "iopub.execute_input": "2021-09-08T03:05:53.498926Z",
     "iopub.status.busy": "2021-09-08T03:05:53.498926Z",
     "iopub.status.idle": "2021-09-08T03:05:53.512888Z",
     "shell.execute_reply": "2021-09-08T03:05:53.511910Z",
     "shell.execute_reply.started": "2021-09-08T03:05:53.498926Z"
    },
    "id": "1WDAtBlEJjxb",
    "outputId": "e125afa7-4091-4a04-d4f1-72c014fbf46f"
   },
   "outputs": [
    {
     "data": {
      "text/plain": [
       "1.118033988749895"
      ]
     },
     "execution_count": 42,
     "metadata": {},
     "output_type": "execute_result"
    }
   ],
   "source": [
    "a.std() "
   ]
  },
  {
   "cell_type": "code",
   "execution_count": null,
   "metadata": {
    "execution": {
     "iopub.execute_input": "2021-09-08T03:05:53.514860Z",
     "iopub.status.busy": "2021-09-08T03:05:53.514860Z",
     "iopub.status.idle": "2021-09-08T03:05:53.529890Z",
     "shell.execute_reply": "2021-09-08T03:05:53.528914Z",
     "shell.execute_reply.started": "2021-09-08T03:05:53.514860Z"
    },
    "id": "aLFD5HIdJjxc",
    "outputId": "50c6c761-0d9c-47a4-cd27-2d527cb39ee9"
   },
   "outputs": [
    {
     "data": {
      "text/plain": [
       "array([[1, 3],\n",
       "       [2, 4]])"
      ]
     },
     "execution_count": 43,
     "metadata": {},
     "output_type": "execute_result"
    }
   ],
   "source": [
    "a.shape = (2, 2)\n",
    "a.T "
   ]
  },
  {
   "cell_type": "markdown",
   "metadata": {
    "id": "EuYhC_cgJjxc"
   },
   "source": [
    "$a_{i,j}$"
   ]
  },
  {
   "cell_type": "code",
   "execution_count": null,
   "metadata": {
    "id": "h-4ctsAqJjxc",
    "outputId": "23ab17ed-d993-4d24-d7c5-605ffbbca60f"
   },
   "outputs": [
    {
     "data": {
      "text/plain": [
       "array([[1, 2],\n",
       "       [3, 4]])"
      ]
     },
     "execution_count": 13,
     "metadata": {},
     "output_type": "execute_result"
    }
   ],
   "source": [
    "a.shape = (2, 2)\n",
    "a"
   ]
  },
  {
   "cell_type": "markdown",
   "metadata": {
    "id": "jtUfSroCJjxe"
   },
   "source": [
    "__Array Concatenation__: `concatenate`, `vstack`, `hstack`"
   ]
  },
  {
   "cell_type": "code",
   "execution_count": null,
   "metadata": {
    "id": "ya-xA6YPJjxe",
    "outputId": "85807cb2-1dbc-4338-d184-292f8c046108"
   },
   "outputs": [
    {
     "data": {
      "text/plain": [
       "array([[1, 2, 3, 3, 6, 9]])"
      ]
     },
     "execution_count": 20,
     "metadata": {},
     "output_type": "execute_result"
    }
   ],
   "source": [
    "x = np.array([[1,2,3]])\n",
    "y = np.array([[3,6,9]])\n",
    "np.concatenate([x,y], axis=1)"
   ]
  },
  {
   "cell_type": "code",
   "execution_count": null,
   "metadata": {
    "id": "W0YEYcrjJjxe",
    "outputId": "4476db21-2d6a-49fa-d725-f5b21ba919c6"
   },
   "outputs": [
    {
     "data": {
      "text/plain": [
       "array([[1, 2, 3],\n",
       "       [3, 6, 9]])"
      ]
     },
     "execution_count": 24,
     "metadata": {},
     "output_type": "execute_result"
    }
   ],
   "source": [
    "np.r_[x,y]"
   ]
  },
  {
   "cell_type": "code",
   "execution_count": null,
   "metadata": {
    "id": "sEAexXcSJjxf",
    "outputId": "64dd665f-3033-4cbe-c3d0-ce1e9f01bc97"
   },
   "outputs": [
    {
     "data": {
      "text/plain": [
       "array([[1, 2, 3],\n",
       "       [3, 6, 9]])"
      ]
     },
     "execution_count": 23,
     "metadata": {},
     "output_type": "execute_result"
    }
   ],
   "source": [
    "np.concatenate([x,y], a"
   ]
  },
  {
   "cell_type": "code",
   "execution_count": null,
   "metadata": {
    "id": "hwTNgB0nJjxf",
    "outputId": "f99b3680-6ff7-4ae0-b4e8-6c59e0f172de"
   },
   "outputs": [
    {
     "data": {
      "text/plain": [
       "array([[1, 2, 3, 3, 6, 9]])"
      ]
     },
     "execution_count": 25,
     "metadata": {},
     "output_type": "execute_result"
    }
   ],
   "source": [
    "np.concatenate([x,y], axis=1)"
   ]
  },
  {
   "cell_type": "code",
   "execution_count": null,
   "metadata": {
    "id": "gU6GCRaEJjxg",
    "outputId": "2e3e66d0-f8e7-4213-aac3-7a72e86b6446"
   },
   "outputs": [
    {
     "data": {
      "text/plain": [
       "array([[1, 2, 3, 3, 6, 9]])"
      ]
     },
     "execution_count": 26,
     "metadata": {},
     "output_type": "execute_result"
    }
   ],
   "source": [
    "np.c_[x,y]"
   ]
  },
  {
   "cell_type": "code",
   "execution_count": null,
   "metadata": {
    "execution": {
     "iopub.execute_input": "2021-09-08T03:05:53.531907Z",
     "iopub.status.busy": "2021-09-08T03:05:53.531907Z",
     "iopub.status.idle": "2021-09-08T03:05:53.547127Z",
     "shell.execute_reply": "2021-09-08T03:05:53.546121Z",
     "shell.execute_reply.started": "2021-09-08T03:05:53.531907Z"
    },
    "id": "Jl4MyM_EJjxg",
    "outputId": "56696ed0-8753-4768-b609-5fbfae151f7c"
   },
   "outputs": [
    {
     "data": {
      "text/plain": [
       "array([[1, 3],\n",
       "       [2, 6],\n",
       "       [3, 9]])"
      ]
     },
     "execution_count": 47,
     "metadata": {},
     "output_type": "execute_result"
    }
   ],
   "source": [
    "x = np.array([1,2,3])\n",
    "y = np.array([3,6,9])\n",
    "np.concatenate([x,y])\n",
    "np.c_[x,y]"
   ]
  },
  {
   "cell_type": "code",
   "execution_count": null,
   "metadata": {
    "execution": {
     "iopub.execute_input": "2021-09-08T03:05:53.549113Z",
     "iopub.status.busy": "2021-09-08T03:05:53.548090Z",
     "iopub.status.idle": "2021-09-08T03:05:53.562051Z",
     "shell.execute_reply": "2021-09-08T03:05:53.561055Z",
     "shell.execute_reply.started": "2021-09-08T03:05:53.549113Z"
    },
    "id": "lxK7_yniJjxh",
    "outputId": "799f5182-24c9-4eee-feb2-9efe1101630b"
   },
   "outputs": [
    {
     "data": {
      "text/plain": [
       "array([[1, 2, 3],\n",
       "       [3, 6, 9]])"
      ]
     },
     "execution_count": 48,
     "metadata": {},
     "output_type": "execute_result"
    }
   ],
   "source": [
    "np.vstack([x,y])"
   ]
  },
  {
   "cell_type": "code",
   "execution_count": null,
   "metadata": {
    "execution": {
     "iopub.execute_input": "2021-09-08T03:05:53.563049Z",
     "iopub.status.busy": "2021-09-08T03:05:53.563049Z",
     "iopub.status.idle": "2021-09-08T03:05:53.574045Z",
     "shell.execute_reply": "2021-09-08T03:05:53.574045Z",
     "shell.execute_reply.started": "2021-09-08T03:05:53.563049Z"
    },
    "id": "4Z_QzojbJjxi",
    "outputId": "fc635764-401f-4a0f-bf1c-05298e0bc484"
   },
   "outputs": [
    {
     "data": {
      "text/plain": [
       "array([1, 2, 3, 3, 6, 9])"
      ]
     },
     "execution_count": 49,
     "metadata": {},
     "output_type": "execute_result"
    }
   ],
   "source": [
    "np.hstack([x,y])"
   ]
  },
  {
   "cell_type": "markdown",
   "metadata": {
    "id": "26qeeh-lJjxi"
   },
   "source": [
    "(5) Comparison Operator"
   ]
  },
  {
   "cell_type": "code",
   "execution_count": null,
   "metadata": {
    "execution": {
     "iopub.execute_input": "2021-09-08T03:05:53.576014Z",
     "iopub.status.busy": "2021-09-08T03:05:53.575017Z",
     "iopub.status.idle": "2021-09-08T03:05:53.587005Z",
     "shell.execute_reply": "2021-09-08T03:05:53.587005Z",
     "shell.execute_reply.started": "2021-09-08T03:05:53.576014Z"
    },
    "id": "HoiaVg4dJjxj"
   },
   "outputs": [],
   "source": [
    "x = np.array([1,2,3,4,5])"
   ]
  },
  {
   "cell_type": "code",
   "execution_count": null,
   "metadata": {
    "execution": {
     "iopub.execute_input": "2021-09-08T03:05:53.587987Z",
     "iopub.status.busy": "2021-09-08T03:05:53.587987Z",
     "iopub.status.idle": "2021-09-08T03:05:53.599971Z",
     "shell.execute_reply": "2021-09-08T03:05:53.599971Z",
     "shell.execute_reply.started": "2021-09-08T03:05:53.587987Z"
    },
    "id": "Dw7RPAZ0Jjxj",
    "outputId": "0cbde57f-5085-46b0-8198-f1cd146345c9"
   },
   "outputs": [
    {
     "data": {
      "text/plain": [
       "array([ True,  True, False, False, False])"
      ]
     },
     "execution_count": 51,
     "metadata": {},
     "output_type": "execute_result"
    }
   ],
   "source": [
    "x < 3"
   ]
  },
  {
   "cell_type": "code",
   "execution_count": null,
   "metadata": {
    "execution": {
     "iopub.execute_input": "2021-09-08T03:05:53.600948Z",
     "iopub.status.busy": "2021-09-08T03:05:53.600948Z",
     "iopub.status.idle": "2021-09-08T03:05:53.612941Z",
     "shell.execute_reply": "2021-09-08T03:05:53.612941Z",
     "shell.execute_reply.started": "2021-09-08T03:05:53.600948Z"
    },
    "id": "XlIJGsEbJjxj",
    "outputId": "88bd01ce-a732-41d5-8511-ea726e73d3db"
   },
   "outputs": [
    {
     "data": {
      "text/plain": [
       "array([False, False, False,  True,  True])"
      ]
     },
     "execution_count": 52,
     "metadata": {},
     "output_type": "execute_result"
    }
   ],
   "source": [
    "x > 3"
   ]
  },
  {
   "cell_type": "code",
   "execution_count": null,
   "metadata": {
    "execution": {
     "iopub.execute_input": "2021-09-08T03:05:53.613933Z",
     "iopub.status.busy": "2021-09-08T03:05:53.613933Z",
     "iopub.status.idle": "2021-09-08T03:05:53.625906Z",
     "shell.execute_reply": "2021-09-08T03:05:53.625906Z",
     "shell.execute_reply.started": "2021-09-08T03:05:53.613933Z"
    },
    "id": "B6c_EnysJjxl",
    "outputId": "5f03a47f-559b-46d5-a036-7b5fceba53f0"
   },
   "outputs": [
    {
     "data": {
      "text/plain": [
       "array([ True,  True, False,  True,  True])"
      ]
     },
     "execution_count": 53,
     "metadata": {},
     "output_type": "execute_result"
    }
   ],
   "source": [
    "x != 3"
   ]
  },
  {
   "cell_type": "code",
   "execution_count": null,
   "metadata": {
    "execution": {
     "iopub.execute_input": "2021-09-08T03:05:53.626878Z",
     "iopub.status.busy": "2021-09-08T03:05:53.626878Z",
     "iopub.status.idle": "2021-09-08T03:05:53.638873Z",
     "shell.execute_reply": "2021-09-08T03:05:53.638873Z",
     "shell.execute_reply.started": "2021-09-08T03:05:53.626878Z"
    },
    "id": "p0l0I8VmJjxl",
    "outputId": "7f1f9633-981f-4149-b4d6-fd6e45c403df"
   },
   "outputs": [
    {
     "data": {
      "text/plain": [
       "array([False, False,  True, False, False])"
      ]
     },
     "execution_count": 54,
     "metadata": {},
     "output_type": "execute_result"
    }
   ],
   "source": [
    "x == 3"
   ]
  },
  {
   "cell_type": "code",
   "execution_count": null,
   "metadata": {
    "execution": {
     "iopub.execute_input": "2021-09-08T03:05:53.639844Z",
     "iopub.status.busy": "2021-09-08T03:05:53.639844Z",
     "iopub.status.idle": "2021-09-08T03:05:53.650841Z",
     "shell.execute_reply": "2021-09-08T03:05:53.650841Z",
     "shell.execute_reply.started": "2021-09-08T03:05:53.639844Z"
    },
    "id": "3gLnodCHJjxl",
    "outputId": "a5c90b40-b2f1-489d-b4d7-642e83043e2e"
   },
   "outputs": [
    {
     "data": {
      "text/plain": [
       "array([ True,  True,  True,  True, False])"
      ]
     },
     "execution_count": 55,
     "metadata": {},
     "output_type": "execute_result"
    }
   ],
   "source": [
    "y = np.array([5,5,5,5,5])\n",
    "x < y"
   ]
  },
  {
   "cell_type": "markdown",
   "metadata": {
    "id": "W9RTRVxDJjxl"
   },
   "source": [
    "Module, Package"
   ]
  },
  {
   "cell_type": "markdown",
   "metadata": {
    "id": "QF9OqSLeJjxm"
   },
   "source": [
    "(additional) Sub-packages (Module)\n",
    "\n",
    "- NumPy provides some additional functionality related to scientific programming through its sub-packages. We’ve already seen how we can generate random variables using np.random"
   ]
  },
  {
   "cell_type": "code",
   "execution_count": null,
   "metadata": {
    "id": "fnR5F8A3Jjxm"
   },
   "outputs": [],
   "source": [
    "import numpy as np\n",
    "from numpy import random as rnd"
   ]
  },
  {
   "cell_type": "code",
   "execution_count": null,
   "metadata": {
    "id": "hxgJV6VRJjxm"
   },
   "outputs": [],
   "source": [
    "np.random."
   ]
  },
  {
   "cell_type": "code",
   "execution_count": null,
   "metadata": {
    "id": "e9ufbviaJjxm",
    "outputId": "cdb98d3e-077c-4d93-9702-4891abc96d21",
    "tags": []
   },
   "outputs": [
    {
     "data": {
      "text/plain": [
       "4.955"
      ]
     },
     "execution_count": 27,
     "metadata": {},
     "output_type": "execute_result"
    }
   ],
   "source": [
    "z = np.random.normal(size=10000)  # Generate standard normals\n",
    "y = np.random.binomial(10, 0.5, size=1000)    # 1,000 draws from Bin(10, 0.5)\n",
    "y.mean()"
   ]
  },
  {
   "cell_type": "markdown",
   "metadata": {
    "id": "dErcN2_DJjxm"
   },
   "source": [
    "Another commonly used subpackage is np.linalg"
   ]
  },
  {
   "cell_type": "code",
   "execution_count": null,
   "metadata": {
    "execution": {
     "iopub.execute_input": "2021-09-08T03:05:53.663808Z",
     "iopub.status.busy": "2021-09-08T03:05:53.663808Z",
     "iopub.status.idle": "2021-09-08T03:05:53.673808Z",
     "shell.execute_reply": "2021-09-08T03:05:53.673808Z",
     "shell.execute_reply.started": "2021-09-08T03:05:53.663808Z"
    },
    "id": "IVeI-JoGJjxn",
    "outputId": "13d98ec4-ea10-4963-bc25-07cb817d39f2"
   },
   "outputs": [
    {
     "data": {
      "text/plain": [
       "-2.0000000000000004"
      ]
     },
     "execution_count": 58,
     "metadata": {},
     "output_type": "execute_result"
    }
   ],
   "source": [
    "A = np.array([[1, 2], [3, 4]])\n",
    "\n",
    "np.linalg.det(A)  "
   ]
  },
  {
   "cell_type": "code",
   "execution_count": null,
   "metadata": {
    "execution": {
     "iopub.execute_input": "2021-09-08T03:05:53.674779Z",
     "iopub.status.busy": "2021-09-08T03:05:53.674779Z",
     "iopub.status.idle": "2021-09-08T03:05:53.686773Z",
     "shell.execute_reply": "2021-09-08T03:05:53.686773Z",
     "shell.execute_reply.started": "2021-09-08T03:05:53.674779Z"
    },
    "id": "twfTvB1UJjxn",
    "outputId": "1985d6de-e3bc-4c9b-c7a7-4f2936967879"
   },
   "outputs": [
    {
     "data": {
      "text/plain": [
       "array([[-2. ,  1. ],\n",
       "       [ 1.5, -0.5]])"
      ]
     },
     "execution_count": 59,
     "metadata": {},
     "output_type": "execute_result"
    }
   ],
   "source": [
    "np.linalg.inv(A)        "
   ]
  },
  {
   "cell_type": "markdown",
   "metadata": {
    "id": "EYmTHFqiJjxn"
   },
   "source": [
    "__Exercise__  <br> 3/25 24:00 (3/26 00:00)\n",
    "1. Create len(10) integer array filled with zeros\n",
    "2. Create 3x5 floating point array filled with ones\n",
    "3. Create 3x5 array filled with 3.14\n",
    "4. Create an array filled with a linear space starting at 0, ending at 20, stepping by 2\n",
    "5. Create an array of five values evenly spaced between 0 and 1\n",
    "6. Create a 3x3 array of uniformly distributed random (0, 1)\n",
    "7. Create a 3x3 array of with mean 0 and standard deviation 1\n",
    "8. Create a 3x3 array of random integers in the interval [0, 10]\n",
    "9. Create a 3x3 identity matrix"
   ]
  },
  {
   "cell_type": "code",
   "execution_count": 1,
   "metadata": {
    "id": "lHcbHjIWJjxn"
   },
   "outputs": [],
   "source": [
    "import numpy as np"
   ]
  },
  {
   "cell_type": "code",
   "execution_count": 36,
   "metadata": {
    "colab": {
     "base_uri": "https://localhost:8080/"
    },
    "id": "719AsXyUJ5Tk",
    "outputId": "d1965406-dd6a-42b0-ce94-752932d57a8a"
   },
   "outputs": [
    {
     "data": {
      "text/plain": [
       "array([0., 0., 0., 0., 0., 0., 0., 0., 0., 0.])"
      ]
     },
     "execution_count": 36,
     "metadata": {},
     "output_type": "execute_result"
    }
   ],
   "source": [
    "# 1\n",
    "z = np.zeros(10)\n",
    "z"
   ]
  },
  {
   "cell_type": "code",
   "execution_count": 11,
   "metadata": {
    "colab": {
     "base_uri": "https://localhost:8080/"
    },
    "id": "YA6r8wM9KHyY",
    "outputId": "f77a5ca4-fe11-4b94-ff15-bc01446cbde9"
   },
   "outputs": [
    {
     "data": {
      "text/plain": [
       "array([[1., 1., 1., 1., 1.],\n",
       "       [1., 1., 1., 1., 1.],\n",
       "       [1., 1., 1., 1., 1.]])"
      ]
     },
     "execution_count": 11,
     "metadata": {},
     "output_type": "execute_result"
    }
   ],
   "source": [
    "# 2\n",
    "one = np.ones((3, 5))\n",
    "one"
   ]
  },
  {
   "cell_type": "code",
   "execution_count": 37,
   "metadata": {
    "colab": {
     "base_uri": "https://localhost:8080/"
    },
    "id": "Pe10pK7eKzsH",
    "outputId": "4618373c-c2d3-4bdb-e1b8-5222285be869"
   },
   "outputs": [
    {
     "data": {
      "text/plain": [
       "array([[3.14, 3.14, 3.14, 3.14, 3.14],\n",
       "       [3.14, 3.14, 3.14, 3.14, 3.14],\n",
       "       [3.14, 3.14, 3.14, 3.14, 3.14]])"
      ]
     },
     "execution_count": 37,
     "metadata": {},
     "output_type": "execute_result"
    }
   ],
   "source": [
    "# 3\n",
    "pi = np.array([3.14, 3.14, 3.14,\n",
    "               3.14, 3.14, 3.14,\n",
    "               3.14, 3.14, 3.14,\n",
    "               3.14, 3.14, 3.14,\n",
    "               3.14, 3.14, 3.14])\n",
    "pi.shape = (3, 5)\n",
    "pi"
   ]
  },
  {
   "cell_type": "code",
   "execution_count": 21,
   "metadata": {
    "colab": {
     "base_uri": "https://localhost:8080/"
    },
    "id": "R3xj0nsiMnR7",
    "outputId": "0adba315-a183-477f-beb8-bb292450a1a0"
   },
   "outputs": [
    {
     "data": {
      "text/plain": [
       "array([ 0,  2,  4,  6,  8, 10, 12, 14, 16, 18, 20])"
      ]
     },
     "execution_count": 21,
     "metadata": {},
     "output_type": "execute_result"
    }
   ],
   "source": [
    "# 4\n",
    "lin = np.arange(0, 21, 2)\n",
    "lin"
   ]
  },
  {
   "cell_type": "code",
   "execution_count": 13,
   "metadata": {
    "colab": {
     "base_uri": "https://localhost:8080/"
    },
    "id": "SMex-0LoMnab",
    "outputId": "5d9e0837-93e7-4cf2-baf0-b75b7ac7e6e0"
   },
   "outputs": [
    {
     "data": {
      "text/plain": [
       "array([0.  , 0.25, 0.5 , 0.75, 1.  ])"
      ]
     },
     "execution_count": 13,
     "metadata": {},
     "output_type": "execute_result"
    }
   ],
   "source": [
    "# 5\n",
    "linspace = np.linspace(0, 1, 5) \n",
    "linspace"
   ]
  },
  {
   "cell_type": "code",
   "execution_count": 24,
   "metadata": {
    "colab": {
     "base_uri": "https://localhost:8080/"
    },
    "id": "PHqzz4HQMnhJ",
    "outputId": "1c8f247c-1e58-42df-f72b-6b4f0979a1c9"
   },
   "outputs": [
    {
     "data": {
      "text/plain": [
       "array([[0.46442308, 0.74618787, 0.09733846],\n",
       "       [0.37541902, 0.08948885, 0.26911159],\n",
       "       [0.15190476, 0.5956358 , 0.6567411 ]])"
      ]
     },
     "execution_count": 24,
     "metadata": {},
     "output_type": "execute_result"
    }
   ],
   "source": [
    "# 6\n",
    "from numpy import random\n",
    "x = random.uniform(0, 1, size=9)\n",
    "x.shape = (3, 3)\n",
    "x"
   ]
  },
  {
   "cell_type": "code",
   "execution_count": 52,
   "metadata": {
    "colab": {
     "base_uri": "https://localhost:8080/"
    },
    "id": "0Ei195_OMnne",
    "outputId": "857d41ea-4a21-40f5-86a6-360432203c0d"
   },
   "outputs": [
    {
     "data": {
      "text/plain": [
       "array([[ 0.39488141, -0.6607298 , -0.59885801],\n",
       "       [-0.71831767,  0.63177511,  0.54766005],\n",
       "       [-0.40959051,  0.37447988, -0.87395695]])"
      ]
     },
     "execution_count": 52,
     "metadata": {},
     "output_type": "execute_result"
    }
   ],
   "source": [
    "# 7\n",
    "std = np.random.normal(size=9)\n",
    "std.shape = (3,3)\n",
    "std"
   ]
  },
  {
   "cell_type": "code",
   "execution_count": 96,
   "metadata": {
    "colab": {
     "base_uri": "https://localhost:8080/"
    },
    "id": "uLC-59-ORBPq",
    "outputId": "3b59d4f7-6a75-4440-c1ad-06b2d3b3963b"
   },
   "outputs": [
    {
     "data": {
      "text/plain": [
       "array([[10, 10,  0],\n",
       "       [ 8,  5,  9],\n",
       "       [ 4,  3,  2]])"
      ]
     },
     "execution_count": 96,
     "metadata": {},
     "output_type": "execute_result"
    }
   ],
   "source": [
    "# 8\n",
    "randint = random.randint(11, size=(3,3))\n",
    "randint"
   ]
  },
  {
   "cell_type": "code",
   "execution_count": 31,
   "metadata": {
    "colab": {
     "base_uri": "https://localhost:8080/"
    },
    "id": "iplE2TMLRt5g",
    "outputId": "ce762201-156a-44e7-c031-2319ac30f382"
   },
   "outputs": [
    {
     "data": {
      "text/plain": [
       "array([[1., 0., 0.],\n",
       "       [0., 1., 0.],\n",
       "       [0., 0., 1.]])"
      ]
     },
     "execution_count": 31,
     "metadata": {},
     "output_type": "execute_result"
    }
   ],
   "source": [
    "# 9\n",
    "identity = np.identity(3)\n",
    "identity"
   ]
  }
 ],
 "metadata": {
  "colab": {
   "collapsed_sections": [],
   "name": "3. Numpy Arrays.ipynb",
   "provenance": []
  },
  "kernelspec": {
   "display_name": "Python 3 (ipykernel)",
   "language": "python",
   "name": "python3"
  },
  "language_info": {
   "codemirror_mode": {
    "name": "ipython",
    "version": 3
   },
   "file_extension": ".py",
   "mimetype": "text/x-python",
   "name": "python",
   "nbconvert_exporter": "python",
   "pygments_lexer": "ipython3",
   "version": "3.8.8"
  },
  "toc": {
   "base_numbering": 1,
   "nav_menu": {},
   "number_sections": true,
   "sideBar": true,
   "skip_h1_title": false,
   "title_cell": "Table of Contents",
   "title_sidebar": "Contents",
   "toc_cell": true,
   "toc_position": {},
   "toc_section_display": true,
   "toc_window_display": true
  }
 },
 "nbformat": 4,
 "nbformat_minor": 1
}
